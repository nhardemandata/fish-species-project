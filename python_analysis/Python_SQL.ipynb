{
 "cells": [
  {
   "cell_type": "markdown",
   "id": "c28d56a5-ea11-4099-baa4-eddfa1cd741e",
   "metadata": {},
   "source": [
    "### Initial"
   ]
  },
  {
   "cell_type": "code",
   "execution_count": 1,
   "id": "565829bb-27bb-402a-a088-24e572b0f054",
   "metadata": {},
   "outputs": [],
   "source": [
    "# packages\n",
    "import sqlite3\n",
    "import pandas as pd"
   ]
  },
  {
   "cell_type": "code",
   "execution_count": 2,
   "id": "5aa09244-94b7-438a-9c2e-662f14af82d3",
   "metadata": {},
   "outputs": [],
   "source": [
    "# load data\n",
    "df = pd.read_csv(\"../data/clean_fish_dataset.csv\")"
   ]
  },
  {
   "cell_type": "code",
   "execution_count": 3,
   "id": "c6a812ed-f3f6-41a3-818d-59a0e71a7579",
   "metadata": {},
   "outputs": [
    {
     "data": {
      "text/html": [
       "<div>\n",
       "<style scoped>\n",
       "    .dataframe tbody tr th:only-of-type {\n",
       "        vertical-align: middle;\n",
       "    }\n",
       "\n",
       "    .dataframe tbody tr th {\n",
       "        vertical-align: top;\n",
       "    }\n",
       "\n",
       "    .dataframe thead th {\n",
       "        text-align: right;\n",
       "    }\n",
       "</style>\n",
       "<table border=\"1\" class=\"dataframe\">\n",
       "  <thead>\n",
       "    <tr style=\"text-align: right;\">\n",
       "      <th></th>\n",
       "      <th>SpecCode</th>\n",
       "      <th>Genus</th>\n",
       "      <th>Species</th>\n",
       "      <th>FBname</th>\n",
       "      <th>Length</th>\n",
       "      <th>LTypeMaxM</th>\n",
       "      <th>Weight</th>\n",
       "      <th>BodyShapeI</th>\n",
       "      <th>Fresh</th>\n",
       "      <th>Brack</th>\n",
       "      <th>...</th>\n",
       "      <th>IUCN_Code</th>\n",
       "      <th>Resilience</th>\n",
       "      <th>Vulnerability</th>\n",
       "      <th>Aquarium</th>\n",
       "      <th>GameFish</th>\n",
       "      <th>Importance</th>\n",
       "      <th>UsedforAquaculture</th>\n",
       "      <th>SizeClass</th>\n",
       "      <th>CommericalStatus</th>\n",
       "      <th>ThreatenedStatus</th>\n",
       "    </tr>\n",
       "  </thead>\n",
       "  <tbody>\n",
       "    <tr>\n",
       "      <th>0</th>\n",
       "      <td>64588</td>\n",
       "      <td>Aapticheilichthys</td>\n",
       "      <td>Aapticheilichthys websteri</td>\n",
       "      <td>NaN</td>\n",
       "      <td>3.08</td>\n",
       "      <td>SL</td>\n",
       "      <td>46243.196613</td>\n",
       "      <td>fusiform / normal</td>\n",
       "      <td>1</td>\n",
       "      <td>0</td>\n",
       "      <td>...</td>\n",
       "      <td>NE</td>\n",
       "      <td>Unkwon</td>\n",
       "      <td>10.00</td>\n",
       "      <td>never/rarely</td>\n",
       "      <td>0</td>\n",
       "      <td>Unknown</td>\n",
       "      <td>never/rarely</td>\n",
       "      <td>Small</td>\n",
       "      <td>0</td>\n",
       "      <td>0</td>\n",
       "    </tr>\n",
       "    <tr>\n",
       "      <th>1</th>\n",
       "      <td>16239</td>\n",
       "      <td>Aaptosyax</td>\n",
       "      <td>Aaptosyax grypus</td>\n",
       "      <td>Giant salmon carp</td>\n",
       "      <td>130.00</td>\n",
       "      <td>SL</td>\n",
       "      <td>30000.000000</td>\n",
       "      <td>fusiform / normal</td>\n",
       "      <td>1</td>\n",
       "      <td>0</td>\n",
       "      <td>...</td>\n",
       "      <td>CR</td>\n",
       "      <td>Very low</td>\n",
       "      <td>90.00</td>\n",
       "      <td>never/rarely</td>\n",
       "      <td>0</td>\n",
       "      <td>Unknown</td>\n",
       "      <td>never/rarely</td>\n",
       "      <td>Large</td>\n",
       "      <td>0</td>\n",
       "      <td>1</td>\n",
       "    </tr>\n",
       "    <tr>\n",
       "      <th>2</th>\n",
       "      <td>2347</td>\n",
       "      <td>Abactochromis</td>\n",
       "      <td>Abactochromis labrosus</td>\n",
       "      <td>NaN</td>\n",
       "      <td>11.50</td>\n",
       "      <td>SL</td>\n",
       "      <td>46243.196613</td>\n",
       "      <td>short and / or deep</td>\n",
       "      <td>1</td>\n",
       "      <td>0</td>\n",
       "      <td>...</td>\n",
       "      <td>LC</td>\n",
       "      <td>High</td>\n",
       "      <td>10.00</td>\n",
       "      <td>commercial</td>\n",
       "      <td>0</td>\n",
       "      <td>commercial</td>\n",
       "      <td>never/rarely</td>\n",
       "      <td>Small</td>\n",
       "      <td>1</td>\n",
       "      <td>0</td>\n",
       "    </tr>\n",
       "    <tr>\n",
       "      <th>3</th>\n",
       "      <td>62612</td>\n",
       "      <td>Abalistes</td>\n",
       "      <td>Abalistes filamentosus</td>\n",
       "      <td>NaN</td>\n",
       "      <td>32.50</td>\n",
       "      <td>SL</td>\n",
       "      <td>1375.000000</td>\n",
       "      <td>short and / or deep</td>\n",
       "      <td>0</td>\n",
       "      <td>0</td>\n",
       "      <td>...</td>\n",
       "      <td>LC</td>\n",
       "      <td>Medium</td>\n",
       "      <td>29.65</td>\n",
       "      <td>never/rarely</td>\n",
       "      <td>0</td>\n",
       "      <td>Unknown</td>\n",
       "      <td>never/rarely</td>\n",
       "      <td>Medium</td>\n",
       "      <td>0</td>\n",
       "      <td>0</td>\n",
       "    </tr>\n",
       "    <tr>\n",
       "      <th>4</th>\n",
       "      <td>9</td>\n",
       "      <td>Abalistes</td>\n",
       "      <td>Abalistes stellatus</td>\n",
       "      <td>Starry triggerfish</td>\n",
       "      <td>60.00</td>\n",
       "      <td>TL</td>\n",
       "      <td>46243.196613</td>\n",
       "      <td>short and / or deep</td>\n",
       "      <td>0</td>\n",
       "      <td>0</td>\n",
       "      <td>...</td>\n",
       "      <td>LC</td>\n",
       "      <td>Medium</td>\n",
       "      <td>44.00</td>\n",
       "      <td>commercial</td>\n",
       "      <td>0</td>\n",
       "      <td>commercial</td>\n",
       "      <td>never/rarely</td>\n",
       "      <td>Medium</td>\n",
       "      <td>1</td>\n",
       "      <td>0</td>\n",
       "    </tr>\n",
       "  </tbody>\n",
       "</table>\n",
       "<p>5 rows × 22 columns</p>\n",
       "</div>"
      ],
      "text/plain": [
       "   SpecCode              Genus                     Species  \\\n",
       "0     64588  Aapticheilichthys  Aapticheilichthys websteri   \n",
       "1     16239          Aaptosyax            Aaptosyax grypus   \n",
       "2      2347      Abactochromis      Abactochromis labrosus   \n",
       "3     62612          Abalistes      Abalistes filamentosus   \n",
       "4         9          Abalistes         Abalistes stellatus   \n",
       "\n",
       "               FBname  Length LTypeMaxM        Weight           BodyShapeI  \\\n",
       "0                 NaN    3.08        SL  46243.196613    fusiform / normal   \n",
       "1   Giant salmon carp  130.00        SL  30000.000000    fusiform / normal   \n",
       "2                 NaN   11.50        SL  46243.196613  short and / or deep   \n",
       "3                 NaN   32.50        SL   1375.000000  short and / or deep   \n",
       "4  Starry triggerfish   60.00        TL  46243.196613  short and / or deep   \n",
       "\n",
       "   Fresh  Brack  ...  IUCN_Code Resilience Vulnerability      Aquarium  \\\n",
       "0      1      0  ...         NE     Unkwon         10.00  never/rarely   \n",
       "1      1      0  ...         CR   Very low         90.00  never/rarely   \n",
       "2      1      0  ...         LC       High         10.00    commercial   \n",
       "3      0      0  ...         LC     Medium         29.65  never/rarely   \n",
       "4      0      0  ...         LC     Medium         44.00    commercial   \n",
       "\n",
       "   GameFish  Importance  UsedforAquaculture SizeClass CommericalStatus  \\\n",
       "0         0     Unknown        never/rarely     Small                0   \n",
       "1         0     Unknown        never/rarely     Large                0   \n",
       "2         0  commercial        never/rarely     Small                1   \n",
       "3         0     Unknown        never/rarely    Medium                0   \n",
       "4         0  commercial        never/rarely    Medium                1   \n",
       "\n",
       "  ThreatenedStatus  \n",
       "0                0  \n",
       "1                1  \n",
       "2                0  \n",
       "3                0  \n",
       "4                0  \n",
       "\n",
       "[5 rows x 22 columns]"
      ]
     },
     "execution_count": 3,
     "metadata": {},
     "output_type": "execute_result"
    }
   ],
   "source": [
    "# take a peek\n",
    "df.head()"
   ]
  },
  {
   "cell_type": "code",
   "execution_count": 4,
   "id": "243b9ac9-5ca4-4e60-82dc-0c06fb97cf03",
   "metadata": {},
   "outputs": [],
   "source": [
    "# connect/create the db file\n",
    "conn = sqlite3.connect(\"fish_species_project.db\")"
   ]
  },
  {
   "cell_type": "code",
   "execution_count": 5,
   "id": "c012eb9f-7787-4cf1-8af1-59ddb58e3260",
   "metadata": {},
   "outputs": [
    {
     "data": {
      "text/plain": [
       "36856"
      ]
     },
     "execution_count": 5,
     "metadata": {},
     "output_type": "execute_result"
    }
   ],
   "source": [
    "# df to db table called fish_species_traits\n",
    "df.to_sql(\"fish_species_traits\", conn, if_exists = \"replace\", index = False)"
   ]
  },
  {
   "cell_type": "code",
   "execution_count": 6,
   "id": "f6f5be6e-a12e-4b39-a07b-e18a6b8fedf3",
   "metadata": {},
   "outputs": [
    {
     "name": "stdout",
     "output_type": "stream",
     "text": [
      "   SpecCode              Genus                     Species  \\\n",
      "0     64588  Aapticheilichthys  Aapticheilichthys websteri   \n",
      "1     16239          Aaptosyax            Aaptosyax grypus   \n",
      "2      2347      Abactochromis      Abactochromis labrosus   \n",
      "3     62612          Abalistes      Abalistes filamentosus   \n",
      "4         9          Abalistes         Abalistes stellatus   \n",
      "\n",
      "               FBname  Length LTypeMaxM        Weight           BodyShapeI  \\\n",
      "0                None    3.08        SL  46243.196613    fusiform / normal   \n",
      "1   Giant salmon carp  130.00        SL  30000.000000    fusiform / normal   \n",
      "2                None   11.50        SL  46243.196613  short and / or deep   \n",
      "3                None   32.50        SL   1375.000000  short and / or deep   \n",
      "4  Starry triggerfish   60.00        TL  46243.196613  short and / or deep   \n",
      "\n",
      "   Fresh  Brack  ...  IUCN_Code Resilience Vulnerability      Aquarium  \\\n",
      "0      1      0  ...         NE     Unkwon         10.00  never/rarely   \n",
      "1      1      0  ...         CR   Very low         90.00  never/rarely   \n",
      "2      1      0  ...         LC       High         10.00    commercial   \n",
      "3      0      0  ...         LC     Medium         29.65  never/rarely   \n",
      "4      0      0  ...         LC     Medium         44.00    commercial   \n",
      "\n",
      "   GameFish  Importance  UsedforAquaculture SizeClass CommericalStatus  \\\n",
      "0         0     Unknown        never/rarely     Small                0   \n",
      "1         0     Unknown        never/rarely     Large                0   \n",
      "2         0  commercial        never/rarely     Small                1   \n",
      "3         0     Unknown        never/rarely    Medium                0   \n",
      "4         0  commercial        never/rarely    Medium                1   \n",
      "\n",
      "  ThreatenedStatus  \n",
      "0                0  \n",
      "1                1  \n",
      "2                0  \n",
      "3                0  \n",
      "4                0  \n",
      "\n",
      "[5 rows x 22 columns]\n"
     ]
    }
   ],
   "source": [
    "# take a peek at the db\n",
    "print(pd.read_sql(\"SELECT * FROM fish_species_traits LIMIT 5;\", conn))"
   ]
  },
  {
   "cell_type": "markdown",
   "id": "d8699c53-b886-4c94-9ef5-1fdf909f599e",
   "metadata": {},
   "source": [
    "#### DB is now populated"
   ]
  },
  {
   "cell_type": "markdown",
   "id": "05ffb39a-9c97-48ff-a169-59191dbbef6f",
   "metadata": {},
   "source": [
    "---"
   ]
  },
  {
   "cell_type": "markdown",
   "id": "53010807-966b-460d-bee9-e4beb8889af3",
   "metadata": {},
   "source": [
    "### SQL query and plot"
   ]
  },
  {
   "cell_type": "code",
   "execution_count": null,
   "id": "40b54644-c1db-4b55-9647-adf92f28fa13",
   "metadata": {},
   "outputs": [],
   "source": [
    "# SQL query\n",
    "query1 = \"SELECT species, weight, length, CommericalStatus FROM species_traits WHERE weight > 200\"\n",
    "df_heavy = pd.read_sql(query1, conn)"
   ]
  },
  {
   "cell_type": "code",
   "execution_count": null,
   "id": "3eb400fd-7a32-4222-8399-d2975e0fdff8",
   "metadata": {},
   "outputs": [],
   "source": [
    "# plot\n",
    "df_heavy.plot.scatter(x='length', y='weight')"
   ]
  }
 ],
 "metadata": {
  "kernelspec": {
   "display_name": "Python 3 (ipykernel)",
   "language": "python",
   "name": "python3"
  },
  "language_info": {
   "codemirror_mode": {
    "name": "ipython",
    "version": 3
   },
   "file_extension": ".py",
   "mimetype": "text/x-python",
   "name": "python",
   "nbconvert_exporter": "python",
   "pygments_lexer": "ipython3",
   "version": "3.13.2"
  }
 },
 "nbformat": 4,
 "nbformat_minor": 5
}
