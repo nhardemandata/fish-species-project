{
 "cells": [
  {
   "cell_type": "markdown",
   "id": "db468d97-cad0-4332-b7d0-dff91215c5eb",
   "metadata": {},
   "source": [
    "### Initial"
   ]
  },
  {
   "cell_type": "code",
   "execution_count": 10,
   "id": "00454dd2-fc4e-454f-9eb0-2ac35f111d5b",
   "metadata": {},
   "outputs": [],
   "source": [
    "# packages\n",
    "import pandas as pd\n",
    "import numpy as np\n",
    "import matplotlib as plt\n",
    "import seaborn as sns\n",
    "import sklearn as skl\n",
    "import tabulate\n",
    "import streamlit\n",
    "import plotly\n",
    "import statsmodels as stats"
   ]
  },
  {
   "cell_type": "code",
   "execution_count": null,
   "id": "0f27ee3b-6a3e-438b-96a4-c2dd8ecbc3a6",
   "metadata": {},
   "outputs": [],
   "source": []
  }
 ],
 "metadata": {
  "kernelspec": {
   "display_name": "Python 3 (ipykernel)",
   "language": "python",
   "name": "python3"
  },
  "language_info": {
   "codemirror_mode": {
    "name": "ipython",
    "version": 3
   },
   "file_extension": ".py",
   "mimetype": "text/x-python",
   "name": "python",
   "nbconvert_exporter": "python",
   "pygments_lexer": "ipython3",
   "version": "3.13.2"
  }
 },
 "nbformat": 4,
 "nbformat_minor": 5
}
