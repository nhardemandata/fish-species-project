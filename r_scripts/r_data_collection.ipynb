{
 "cells": [
  {
   "cell_type": "markdown",
   "id": "0c0c7a64-2dba-46f5-9e44-fb6dd59c0ebb",
   "metadata": {},
   "source": [
    "### Initial"
   ]
  },
  {
   "cell_type": "code",
   "execution_count": 3,
   "id": "541f25da-b713-4332-8f5c-2b88178054b5",
   "metadata": {},
   "outputs": [
    {
     "name": "stdout",
     "output_type": "stream",
     "text": [
      "\n",
      "The downloaded binary packages are in\n",
      "\t/var/folders/17/1s12c7d93tz_93j94s44qsl40000gn/T//RtmpyE9Q4d/downloaded_packages\n"
     ]
    },
    {
     "name": "stderr",
     "output_type": "stream",
     "text": [
      "── \u001b[1mAttaching core tidyverse packages\u001b[22m ──────────────────────── tidyverse 2.0.0 ──\n",
      "\u001b[32m✔\u001b[39m \u001b[34mdplyr    \u001b[39m 1.1.4     \u001b[32m✔\u001b[39m \u001b[34mreadr    \u001b[39m 2.1.5\n",
      "\u001b[32m✔\u001b[39m \u001b[34mforcats  \u001b[39m 1.0.0     \u001b[32m✔\u001b[39m \u001b[34mstringr  \u001b[39m 1.5.1\n",
      "\u001b[32m✔\u001b[39m \u001b[34mggplot2  \u001b[39m 3.5.1     \u001b[32m✔\u001b[39m \u001b[34mtibble   \u001b[39m 3.2.1\n",
      "\u001b[32m✔\u001b[39m \u001b[34mlubridate\u001b[39m 1.9.3     \u001b[32m✔\u001b[39m \u001b[34mtidyr    \u001b[39m 1.3.1\n",
      "\u001b[32m✔\u001b[39m \u001b[34mpurrr    \u001b[39m 1.0.2     \n",
      "── \u001b[1mConflicts\u001b[22m ────────────────────────────────────────── tidyverse_conflicts() ──\n",
      "\u001b[31m✖\u001b[39m \u001b[34mdplyr\u001b[39m::\u001b[32mfilter()\u001b[39m masks \u001b[34mstats\u001b[39m::filter()\n",
      "\u001b[31m✖\u001b[39m \u001b[34mdplyr\u001b[39m::\u001b[32mlag()\u001b[39m    masks \u001b[34mstats\u001b[39m::lag()\n",
      "\u001b[36mℹ\u001b[39m Use the conflicted package (\u001b[3m\u001b[34m<http://conflicted.r-lib.org/>\u001b[39m\u001b[23m) to force all conflicts to become errors\n"
     ]
    }
   ],
   "source": [
    "# libraries\n",
    "install.packages(\"rfishbase\")\n",
    "library(rfishbase)\n",
    "install.packages(\"tidyverse\")\n",
    "library(tidyverse)"
   ]
  },
  {
   "cell_type": "code",
   "execution_count": 2,
   "id": "be3268f5-e764-49a0-bd41-565993bcda69",
   "metadata": {},
   "outputs": [
    {
     "name": "stdout",
     "output_type": "stream",
     "text": [
      "%>%\n",
      "available_releases\n",
      "brains\n",
      "c_code\n",
      "common_names\n",
      "common_to_sci\n",
      "country\n",
      "countrysub\n",
      "countrysubref\n",
      "diet\n",
      "diet_items\n",
      "ecology\n",
      "ecosystem\n",
      "estimate\n",
      "faoareas\n",
      "fb_tables\n",
      "fb_tbl\n",
      "fecundity\n",
      "fooditems\n",
      "genetics\n",
      "introductions\n",
      "larvae\n",
      "length_freq\n",
      "length_length\n",
      "length_weight\n",
      "load_taxa\n",
      "maturity\n",
      "morphology\n",
      "morphometrics\n",
      "oxygen\n",
      "popchar\n",
      "popgrowth\n",
      "poplf\n",
      "popll\n",
      "poplw\n",
      "popqb\n",
      "predators\n",
      "ration\n",
      "references\n",
      "reproduction\n",
      "sci_to_common\n",
      "spawning\n",
      "species\n",
      "species_by_ecosystem\n",
      "species_names\n",
      "speed\n",
      "stocks\n",
      "swimming\n",
      "synonyms\n",
      "validate_names\n"
     ]
    }
   ],
   "source": [
    "# view exportables\n",
    "cat(ls(\"package:rfishbase\"), sep = \"\\n\")"
   ]
  },
  {
   "cell_type": "code",
   "execution_count": 5,
   "id": "e796630b-01e3-465c-b7bf-e3cee59863c3",
   "metadata": {},
   "outputs": [
    {
     "name": "stderr",
     "output_type": "stream",
     "text": [
      "Joining with `by = join_by(Subfamily, GenCode, FamCode)`\n",
      "Joining with `by = join_by(FamCode)`\n",
      "Joining with `by = join_by(Order, Ordnum, Class, ClassNum)`\n",
      "Joining with `by = join_by(Class, ClassNum)`\n"
     ]
    }
   ],
   "source": [
    "# collect\n",
    "species_data <- species(limit = 2500)\n",
    "speed_data <- speed(limit = 2500)\n",
    "ecology_data <- ecology(limit = 2500)\n",
    "stocks_data <- stocks(limit = 2500)\n",
    "species_names_data <- species_names(limit = 2500)"
   ]
  },
  {
   "cell_type": "markdown",
   "id": "156d8ec6-ca70-4124-8663-8a1e2b649d06",
   "metadata": {},
   "source": [
    "### Data Check & Export"
   ]
  },
  {
   "cell_type": "code",
   "execution_count": 4,
   "id": "9bb7fe7b-1de5-4ad2-8634-568362e35bf0",
   "metadata": {},
   "outputs": [
    {
     "data": {
      "text/html": [
       "<table class=\"dataframe\">\n",
       "<caption>A tibble: 6 × 101</caption>\n",
       "<thead>\n",
       "\t<tr><th scope=col>SpecCode</th><th scope=col>Genus</th><th scope=col>SpeciesRefNo</th><th scope=col>Author</th><th scope=col>FBname</th><th scope=col>PicPreferredName</th><th scope=col>PicPreferredNameM</th><th scope=col>PicPreferredNameF</th><th scope=col>PicPreferredNameJ</th><th scope=col>FamCode</th><th scope=col>⋯</th><th scope=col>Profile</th><th scope=col>PD50</th><th scope=col>Emblematic</th><th scope=col>Entered</th><th scope=col>DateEntered</th><th scope=col>Modified</th><th scope=col>DateModified</th><th scope=col>Expert</th><th scope=col>DateChecked</th><th scope=col>TS</th></tr>\n",
       "\t<tr><th scope=col>&lt;int&gt;</th><th scope=col>&lt;chr&gt;</th><th scope=col>&lt;int&gt;</th><th scope=col>&lt;chr&gt;</th><th scope=col>&lt;chr&gt;</th><th scope=col>&lt;chr&gt;</th><th scope=col>&lt;chr&gt;</th><th scope=col>&lt;chr&gt;</th><th scope=col>&lt;chr&gt;</th><th scope=col>&lt;int&gt;</th><th scope=col>⋯</th><th scope=col>&lt;chr&gt;</th><th scope=col>&lt;dbl&gt;</th><th scope=col>&lt;int&gt;</th><th scope=col>&lt;int&gt;</th><th scope=col>&lt;dttm&gt;</th><th scope=col>&lt;int&gt;</th><th scope=col>&lt;dttm&gt;</th><th scope=col>&lt;int&gt;</th><th scope=col>&lt;dttm&gt;</th><th scope=col>&lt;dttm&gt;</th></tr>\n",
       "</thead>\n",
       "<tbody>\n",
       "\t<tr><td>64588</td><td>Aapticheilichthys</td><td>78622</td><td>(Huber, 2007)           </td><td>NA                </td><td>Prweb_u0.jpg</td><td>NA</td><td>NA</td><td>NA          </td><td>733</td><td>⋯</td><td>NA</td><td>1.0000</td><td>0</td><td>303</td><td>2008-08-04</td><td>  2</td><td>2024-03-21 00:00:00</td><td> NA</td><td>NA</td><td>NA</td></tr>\n",
       "\t<tr><td>16239</td><td>Aaptosyax        </td><td>10431</td><td>Rainboth, 1991          </td><td>Giant salmon carp </td><td>Aagry_u0.gif</td><td>NA</td><td>NA</td><td>NA          </td><td>122</td><td>⋯</td><td>NA</td><td>1.0000</td><td>0</td><td>113</td><td>1996-01-12</td><td>  2</td><td>2024-05-22 00:00:00</td><td> NA</td><td>NA</td><td>NA</td></tr>\n",
       "\t<tr><td> 2347</td><td>Abactochromis    </td><td>85491</td><td>(Trewavas, 1935)        </td><td>NA                </td><td>Melab_u0.jpg</td><td>NA</td><td>NA</td><td>NA          </td><td>349</td><td>⋯</td><td>NA</td><td>1.0000</td><td>0</td><td>  3</td><td>1991-03-01</td><td>675</td><td>2011-12-06 17:06:31</td><td> 14</td><td>2010-11-09</td><td>NA</td></tr>\n",
       "\t<tr><td>62612</td><td><span style=white-space:pre-wrap>Abalistes        </span></td><td>54835</td><td>Matsuura &amp; Yoshino, 2004</td><td><span style=white-space:pre-wrap>NA                </span></td><td>Abfil_u0.jpg</td><td>NA</td><td>NA</td><td><span style=white-space:pre-wrap>NA          </span></td><td>445</td><td>⋯</td><td>NA</td><td>0.6250</td><td>0</td><td> 14</td><td>2006-04-19</td><td> NA</td><td>2010-09-08 00:00:00</td><td> NA</td><td>NA</td><td>NA</td></tr>\n",
       "\t<tr><td>    9</td><td>Abalistes        </td><td> 9770</td><td>(Anonymous, 1798)       </td><td>Starry triggerfish</td><td>Abste_u4.jpg</td><td>NA</td><td>NA</td><td>Abste_u2.jpg</td><td>445</td><td>⋯</td><td>NA</td><td>0.6250</td><td>0</td><td>  2</td><td>1990-10-17</td><td>  2</td><td>2024-01-17 00:00:00</td><td>124</td><td>1996-03-14</td><td>NA</td></tr>\n",
       "\t<tr><td>11144</td><td>Abantennarius    </td><td> 6773</td><td>Schultz, 1957           </td><td>Tailjet frogfish  </td><td>Anana_u2.jpg</td><td>NA</td><td>NA</td><td>NA          </td><td>192</td><td>⋯</td><td>NA</td><td>0.5002</td><td>0</td><td>  1</td><td>1994-06-20</td><td> 14</td><td>2022-04-22 00:00:00</td><td>  2</td><td>1994-09-28</td><td>NA</td></tr>\n",
       "</tbody>\n",
       "</table>\n"
      ],
      "text/latex": [
       "A tibble: 6 × 101\n",
       "\\begin{tabular}{lllllllllllllllllllll}\n",
       " SpecCode & Genus & SpeciesRefNo & Author & FBname & PicPreferredName & PicPreferredNameM & PicPreferredNameF & PicPreferredNameJ & FamCode & ⋯ & Profile & PD50 & Emblematic & Entered & DateEntered & Modified & DateModified & Expert & DateChecked & TS\\\\\n",
       " <int> & <chr> & <int> & <chr> & <chr> & <chr> & <chr> & <chr> & <chr> & <int> & ⋯ & <chr> & <dbl> & <int> & <int> & <dttm> & <int> & <dttm> & <int> & <dttm> & <dttm>\\\\\n",
       "\\hline\n",
       "\t 64588 & Aapticheilichthys & 78622 & (Huber, 2007)            & NA                 & Prweb\\_u0.jpg & NA & NA & NA           & 733 & ⋯ & NA & 1.0000 & 0 & 303 & 2008-08-04 &   2 & 2024-03-21 00:00:00 &  NA & NA & NA\\\\\n",
       "\t 16239 & Aaptosyax         & 10431 & Rainboth, 1991           & Giant salmon carp  & Aagry\\_u0.gif & NA & NA & NA           & 122 & ⋯ & NA & 1.0000 & 0 & 113 & 1996-01-12 &   2 & 2024-05-22 00:00:00 &  NA & NA & NA\\\\\n",
       "\t  2347 & Abactochromis     & 85491 & (Trewavas, 1935)         & NA                 & Melab\\_u0.jpg & NA & NA & NA           & 349 & ⋯ & NA & 1.0000 & 0 &   3 & 1991-03-01 & 675 & 2011-12-06 17:06:31 &  14 & 2010-11-09 & NA\\\\\n",
       "\t 62612 & Abalistes         & 54835 & Matsuura \\& Yoshino, 2004 & NA                 & Abfil\\_u0.jpg & NA & NA & NA           & 445 & ⋯ & NA & 0.6250 & 0 &  14 & 2006-04-19 &  NA & 2010-09-08 00:00:00 &  NA & NA & NA\\\\\n",
       "\t     9 & Abalistes         &  9770 & (Anonymous, 1798)        & Starry triggerfish & Abste\\_u4.jpg & NA & NA & Abste\\_u2.jpg & 445 & ⋯ & NA & 0.6250 & 0 &   2 & 1990-10-17 &   2 & 2024-01-17 00:00:00 & 124 & 1996-03-14 & NA\\\\\n",
       "\t 11144 & Abantennarius     &  6773 & Schultz, 1957            & Tailjet frogfish   & Anana\\_u2.jpg & NA & NA & NA           & 192 & ⋯ & NA & 0.5002 & 0 &   1 & 1994-06-20 &  14 & 2022-04-22 00:00:00 &   2 & 1994-09-28 & NA\\\\\n",
       "\\end{tabular}\n"
      ],
      "text/markdown": [
       "\n",
       "A tibble: 6 × 101\n",
       "\n",
       "| SpecCode &lt;int&gt; | Genus &lt;chr&gt; | SpeciesRefNo &lt;int&gt; | Author &lt;chr&gt; | FBname &lt;chr&gt; | PicPreferredName &lt;chr&gt; | PicPreferredNameM &lt;chr&gt; | PicPreferredNameF &lt;chr&gt; | PicPreferredNameJ &lt;chr&gt; | FamCode &lt;int&gt; | ⋯ ⋯ | Profile &lt;chr&gt; | PD50 &lt;dbl&gt; | Emblematic &lt;int&gt; | Entered &lt;int&gt; | DateEntered &lt;dttm&gt; | Modified &lt;int&gt; | DateModified &lt;dttm&gt; | Expert &lt;int&gt; | DateChecked &lt;dttm&gt; | TS &lt;dttm&gt; |\n",
       "|---|---|---|---|---|---|---|---|---|---|---|---|---|---|---|---|---|---|---|---|---|\n",
       "| 64588 | Aapticheilichthys | 78622 | (Huber, 2007)            | NA                 | Prweb_u0.jpg | NA | NA | NA           | 733 | ⋯ | NA | 1.0000 | 0 | 303 | 2008-08-04 |   2 | 2024-03-21 00:00:00 |  NA | NA | NA |\n",
       "| 16239 | Aaptosyax         | 10431 | Rainboth, 1991           | Giant salmon carp  | Aagry_u0.gif | NA | NA | NA           | 122 | ⋯ | NA | 1.0000 | 0 | 113 | 1996-01-12 |   2 | 2024-05-22 00:00:00 |  NA | NA | NA |\n",
       "|  2347 | Abactochromis     | 85491 | (Trewavas, 1935)         | NA                 | Melab_u0.jpg | NA | NA | NA           | 349 | ⋯ | NA | 1.0000 | 0 |   3 | 1991-03-01 | 675 | 2011-12-06 17:06:31 |  14 | 2010-11-09 | NA |\n",
       "| 62612 | Abalistes         | 54835 | Matsuura &amp; Yoshino, 2004 | NA                 | Abfil_u0.jpg | NA | NA | NA           | 445 | ⋯ | NA | 0.6250 | 0 |  14 | 2006-04-19 |  NA | 2010-09-08 00:00:00 |  NA | NA | NA |\n",
       "|     9 | Abalistes         |  9770 | (Anonymous, 1798)        | Starry triggerfish | Abste_u4.jpg | NA | NA | Abste_u2.jpg | 445 | ⋯ | NA | 0.6250 | 0 |   2 | 1990-10-17 |   2 | 2024-01-17 00:00:00 | 124 | 1996-03-14 | NA |\n",
       "| 11144 | Abantennarius     |  6773 | Schultz, 1957            | Tailjet frogfish   | Anana_u2.jpg | NA | NA | NA           | 192 | ⋯ | NA | 0.5002 | 0 |   1 | 1994-06-20 |  14 | 2022-04-22 00:00:00 |   2 | 1994-09-28 | NA |\n",
       "\n"
      ],
      "text/plain": [
       "  SpecCode Genus             SpeciesRefNo Author                  \n",
       "1 64588    Aapticheilichthys 78622        (Huber, 2007)           \n",
       "2 16239    Aaptosyax         10431        Rainboth, 1991          \n",
       "3  2347    Abactochromis     85491        (Trewavas, 1935)        \n",
       "4 62612    Abalistes         54835        Matsuura & Yoshino, 2004\n",
       "5     9    Abalistes          9770        (Anonymous, 1798)       \n",
       "6 11144    Abantennarius      6773        Schultz, 1957           \n",
       "  FBname             PicPreferredName PicPreferredNameM PicPreferredNameF\n",
       "1 NA                 Prweb_u0.jpg     NA                NA               \n",
       "2 Giant salmon carp  Aagry_u0.gif     NA                NA               \n",
       "3 NA                 Melab_u0.jpg     NA                NA               \n",
       "4 NA                 Abfil_u0.jpg     NA                NA               \n",
       "5 Starry triggerfish Abste_u4.jpg     NA                NA               \n",
       "6 Tailjet frogfish   Anana_u2.jpg     NA                NA               \n",
       "  PicPreferredNameJ FamCode ⋯ Profile PD50   Emblematic Entered DateEntered\n",
       "1 NA                733     ⋯ NA      1.0000 0          303     2008-08-04 \n",
       "2 NA                122     ⋯ NA      1.0000 0          113     1996-01-12 \n",
       "3 NA                349     ⋯ NA      1.0000 0            3     1991-03-01 \n",
       "4 NA                445     ⋯ NA      0.6250 0           14     2006-04-19 \n",
       "5 Abste_u2.jpg      445     ⋯ NA      0.6250 0            2     1990-10-17 \n",
       "6 NA                192     ⋯ NA      0.5002 0            1     1994-06-20 \n",
       "  Modified DateModified        Expert DateChecked TS  \n",
       "1   2      2024-03-21 00:00:00  NA    <NA>        <NA>\n",
       "2   2      2024-05-22 00:00:00  NA    <NA>        <NA>\n",
       "3 675      2011-12-06 17:06:31  14    2010-11-09  <NA>\n",
       "4  NA      2010-09-08 00:00:00  NA    <NA>        <NA>\n",
       "5   2      2024-01-17 00:00:00 124    1996-03-14  <NA>\n",
       "6  14      2022-04-22 00:00:00   2    1994-09-28  <NA>"
      ]
     },
     "metadata": {},
     "output_type": "display_data"
    }
   ],
   "source": [
    "head(species_data)"
   ]
  },
  {
   "cell_type": "code",
   "execution_count": 15,
   "id": "2bac05a4-ce06-4301-8b38-bc2b137d175e",
   "metadata": {},
   "outputs": [],
   "source": [
    "write.csv(species_data, \"../data/species_data.csv\", row.names = FALSE)"
   ]
  },
  {
   "cell_type": "code",
   "execution_count": 5,
   "id": "e2318d76-b46a-466a-8be2-62a1438acc2f",
   "metadata": {},
   "outputs": [
    {
     "data": {
      "text/html": [
       "<table class=\"dataframe\">\n",
       "<caption>A tibble: 6 × 22</caption>\n",
       "<thead>\n",
       "\t<tr><th scope=col>autoctr</th><th scope=col>StockCode</th><th scope=col>SpecCode</th><th scope=col>SpeedRefNo</th><th scope=col>Length</th><th scope=col>LengthType</th><th scope=col>SpeedLS</th><th scope=col>LengthTypeSpeed</th><th scope=col>Speedms</th><th scope=col>Mode</th><th scope=col>⋯</th><th scope=col>Comment</th><th scope=col>Entered</th><th scope=col>DateEntered</th><th scope=col>Modified</th><th scope=col>DateModified</th><th scope=col>Expert</th><th scope=col>DateChecked</th><th scope=col>SLa</th><th scope=col>SLb</th><th scope=col>TS</th></tr>\n",
       "\t<tr><th scope=col>&lt;int&gt;</th><th scope=col>&lt;int&gt;</th><th scope=col>&lt;int&gt;</th><th scope=col>&lt;int&gt;</th><th scope=col>&lt;dbl&gt;</th><th scope=col>&lt;chr&gt;</th><th scope=col>&lt;dbl&gt;</th><th scope=col>&lt;chr&gt;</th><th scope=col>&lt;dbl&gt;</th><th scope=col>&lt;chr&gt;</th><th scope=col>⋯</th><th scope=col>&lt;chr&gt;</th><th scope=col>&lt;int&gt;</th><th scope=col>&lt;dttm&gt;</th><th scope=col>&lt;int&gt;</th><th scope=col>&lt;dttm&gt;</th><th scope=col>&lt;int&gt;</th><th scope=col>&lt;dttm&gt;</th><th scope=col>&lt;dbl&gt;</th><th scope=col>&lt;dbl&gt;</th><th scope=col>&lt;dttm&gt;</th></tr>\n",
       "</thead>\n",
       "<tbody>\n",
       "\t<tr><td>71</td><td>32</td><td>24</td><td> 308</td><td>25</td><td>SL</td><td>6.97</td><td>SL</td><td>1.7425</td><td>burst    </td><td>⋯</td><td>Lengths were transformed to SL in Ref. 308.</td><td> 1</td><td>1992-01-30</td><td> 1</td><td>2000-09-20</td><td>NA</td><td>NA</td><td>NA</td><td>  NA</td><td>NA</td></tr>\n",
       "\t<tr><td>73</td><td>39</td><td>29</td><td> 308</td><td>15</td><td>SL</td><td>9.86</td><td>SL</td><td>1.4790</td><td>burst    </td><td>⋯</td><td>Lengths were transformed to SL in Ref. 308.</td><td> 1</td><td>1992-01-30</td><td> 3</td><td>2003-03-28</td><td>NA</td><td>NA</td><td> 0</td><td>0.91</td><td>NA</td></tr>\n",
       "\t<tr><td>72</td><td>39</td><td>29</td><td> 308</td><td>20</td><td>SL</td><td>8.04</td><td>SL</td><td>1.6080</td><td>burst    </td><td>⋯</td><td>Lengths were transformed to SL in Ref. 308.</td><td> 1</td><td>1992-01-30</td><td> 1</td><td>2000-09-20</td><td>NA</td><td>NA</td><td> 0</td><td>0.91</td><td>NA</td></tr>\n",
       "\t<tr><td>74</td><td>39</td><td>29</td><td>3499</td><td>17</td><td>NA</td><td>1.30</td><td>TL</td><td>0.2300</td><td>sustained</td><td>⋯</td><td>17.7 g, fish at 23 cm/sec.                 </td><td>22</td><td>1992-05-15</td><td> 1</td><td>1994-09-28</td><td>NA</td><td>NA</td><td> 0</td><td>0.91</td><td>NA</td></tr>\n",
       "\t<tr><td>75</td><td>40</td><td>30</td><td>3499</td><td>22</td><td>TL</td><td>3.50</td><td>TL</td><td>0.7900</td><td>sustained</td><td>⋯</td><td>23.7 g, fish at 79 cm/sec.                 </td><td>22</td><td>1992-05-15</td><td> 1</td><td>1994-09-28</td><td>NA</td><td>NA</td><td> 0</td><td>0.89</td><td>NA</td></tr>\n",
       "\t<tr><td>76</td><td>54</td><td>44</td><td>3499</td><td>19</td><td>TL</td><td>2.40</td><td>TL</td><td>0.4700</td><td>sustained</td><td>⋯</td><td>19.2 cm, fish at 47 cm/sec.                </td><td>22</td><td>1992-05-15</td><td>NA</td><td>1994-09-28</td><td>NA</td><td>NA</td><td>NA</td><td>  NA</td><td>NA</td></tr>\n",
       "</tbody>\n",
       "</table>\n"
      ],
      "text/latex": [
       "A tibble: 6 × 22\n",
       "\\begin{tabular}{lllllllllllllllllllll}\n",
       " autoctr & StockCode & SpecCode & SpeedRefNo & Length & LengthType & SpeedLS & LengthTypeSpeed & Speedms & Mode & ⋯ & Comment & Entered & DateEntered & Modified & DateModified & Expert & DateChecked & SLa & SLb & TS\\\\\n",
       " <int> & <int> & <int> & <int> & <dbl> & <chr> & <dbl> & <chr> & <dbl> & <chr> & ⋯ & <chr> & <int> & <dttm> & <int> & <dttm> & <int> & <dttm> & <dbl> & <dbl> & <dttm>\\\\\n",
       "\\hline\n",
       "\t 71 & 32 & 24 &  308 & 25 & SL & 6.97 & SL & 1.7425 & burst     & ⋯ & Lengths were transformed to SL in Ref. 308. &  1 & 1992-01-30 &  1 & 2000-09-20 & NA & NA & NA &   NA & NA\\\\\n",
       "\t 73 & 39 & 29 &  308 & 15 & SL & 9.86 & SL & 1.4790 & burst     & ⋯ & Lengths were transformed to SL in Ref. 308. &  1 & 1992-01-30 &  3 & 2003-03-28 & NA & NA &  0 & 0.91 & NA\\\\\n",
       "\t 72 & 39 & 29 &  308 & 20 & SL & 8.04 & SL & 1.6080 & burst     & ⋯ & Lengths were transformed to SL in Ref. 308. &  1 & 1992-01-30 &  1 & 2000-09-20 & NA & NA &  0 & 0.91 & NA\\\\\n",
       "\t 74 & 39 & 29 & 3499 & 17 & NA & 1.30 & TL & 0.2300 & sustained & ⋯ & 17.7 g, fish at 23 cm/sec.                  & 22 & 1992-05-15 &  1 & 1994-09-28 & NA & NA &  0 & 0.91 & NA\\\\\n",
       "\t 75 & 40 & 30 & 3499 & 22 & TL & 3.50 & TL & 0.7900 & sustained & ⋯ & 23.7 g, fish at 79 cm/sec.                  & 22 & 1992-05-15 &  1 & 1994-09-28 & NA & NA &  0 & 0.89 & NA\\\\\n",
       "\t 76 & 54 & 44 & 3499 & 19 & TL & 2.40 & TL & 0.4700 & sustained & ⋯ & 19.2 cm, fish at 47 cm/sec.                 & 22 & 1992-05-15 & NA & 1994-09-28 & NA & NA & NA &   NA & NA\\\\\n",
       "\\end{tabular}\n"
      ],
      "text/markdown": [
       "\n",
       "A tibble: 6 × 22\n",
       "\n",
       "| autoctr &lt;int&gt; | StockCode &lt;int&gt; | SpecCode &lt;int&gt; | SpeedRefNo &lt;int&gt; | Length &lt;dbl&gt; | LengthType &lt;chr&gt; | SpeedLS &lt;dbl&gt; | LengthTypeSpeed &lt;chr&gt; | Speedms &lt;dbl&gt; | Mode &lt;chr&gt; | ⋯ ⋯ | Comment &lt;chr&gt; | Entered &lt;int&gt; | DateEntered &lt;dttm&gt; | Modified &lt;int&gt; | DateModified &lt;dttm&gt; | Expert &lt;int&gt; | DateChecked &lt;dttm&gt; | SLa &lt;dbl&gt; | SLb &lt;dbl&gt; | TS &lt;dttm&gt; |\n",
       "|---|---|---|---|---|---|---|---|---|---|---|---|---|---|---|---|---|---|---|---|---|\n",
       "| 71 | 32 | 24 |  308 | 25 | SL | 6.97 | SL | 1.7425 | burst     | ⋯ | Lengths were transformed to SL in Ref. 308. |  1 | 1992-01-30 |  1 | 2000-09-20 | NA | NA | NA |   NA | NA |\n",
       "| 73 | 39 | 29 |  308 | 15 | SL | 9.86 | SL | 1.4790 | burst     | ⋯ | Lengths were transformed to SL in Ref. 308. |  1 | 1992-01-30 |  3 | 2003-03-28 | NA | NA |  0 | 0.91 | NA |\n",
       "| 72 | 39 | 29 |  308 | 20 | SL | 8.04 | SL | 1.6080 | burst     | ⋯ | Lengths were transformed to SL in Ref. 308. |  1 | 1992-01-30 |  1 | 2000-09-20 | NA | NA |  0 | 0.91 | NA |\n",
       "| 74 | 39 | 29 | 3499 | 17 | NA | 1.30 | TL | 0.2300 | sustained | ⋯ | 17.7 g, fish at 23 cm/sec.                  | 22 | 1992-05-15 |  1 | 1994-09-28 | NA | NA |  0 | 0.91 | NA |\n",
       "| 75 | 40 | 30 | 3499 | 22 | TL | 3.50 | TL | 0.7900 | sustained | ⋯ | 23.7 g, fish at 79 cm/sec.                  | 22 | 1992-05-15 |  1 | 1994-09-28 | NA | NA |  0 | 0.89 | NA |\n",
       "| 76 | 54 | 44 | 3499 | 19 | TL | 2.40 | TL | 0.4700 | sustained | ⋯ | 19.2 cm, fish at 47 cm/sec.                 | 22 | 1992-05-15 | NA | 1994-09-28 | NA | NA | NA |   NA | NA |\n",
       "\n"
      ],
      "text/plain": [
       "  autoctr StockCode SpecCode SpeedRefNo Length LengthType SpeedLS\n",
       "1 71      32        24        308       25     SL         6.97   \n",
       "2 73      39        29        308       15     SL         9.86   \n",
       "3 72      39        29        308       20     SL         8.04   \n",
       "4 74      39        29       3499       17     NA         1.30   \n",
       "5 75      40        30       3499       22     TL         3.50   \n",
       "6 76      54        44       3499       19     TL         2.40   \n",
       "  LengthTypeSpeed Speedms Mode      ⋯\n",
       "1 SL              1.7425  burst     ⋯\n",
       "2 SL              1.4790  burst     ⋯\n",
       "3 SL              1.6080  burst     ⋯\n",
       "4 TL              0.2300  sustained ⋯\n",
       "5 TL              0.7900  sustained ⋯\n",
       "6 TL              0.4700  sustained ⋯\n",
       "  Comment                                     Entered DateEntered Modified\n",
       "1 Lengths were transformed to SL in Ref. 308.  1      1992-01-30   1      \n",
       "2 Lengths were transformed to SL in Ref. 308.  1      1992-01-30   3      \n",
       "3 Lengths were transformed to SL in Ref. 308.  1      1992-01-30   1      \n",
       "4 17.7 g, fish at 23 cm/sec.                  22      1992-05-15   1      \n",
       "5 23.7 g, fish at 79 cm/sec.                  22      1992-05-15   1      \n",
       "6 19.2 cm, fish at 47 cm/sec.                 22      1992-05-15  NA      \n",
       "  DateModified Expert DateChecked SLa SLb  TS  \n",
       "1 2000-09-20   NA     <NA>        NA    NA <NA>\n",
       "2 2003-03-28   NA     <NA>         0  0.91 <NA>\n",
       "3 2000-09-20   NA     <NA>         0  0.91 <NA>\n",
       "4 1994-09-28   NA     <NA>         0  0.91 <NA>\n",
       "5 1994-09-28   NA     <NA>         0  0.89 <NA>\n",
       "6 1994-09-28   NA     <NA>        NA    NA <NA>"
      ]
     },
     "metadata": {},
     "output_type": "display_data"
    }
   ],
   "source": [
    "head(speed_data)"
   ]
  },
  {
   "cell_type": "code",
   "execution_count": 16,
   "id": "d3a91962-cc74-440d-8fcd-2e9b3acec2d5",
   "metadata": {},
   "outputs": [],
   "source": [
    "write.csv(speed_data, \"../data/speed_data.csv\", row.names = FALSE)"
   ]
  },
  {
   "cell_type": "code",
   "execution_count": 6,
   "id": "c9b6b39c-b96f-4896-8caf-f27399db65ef",
   "metadata": {},
   "outputs": [
    {
     "data": {
      "text/html": [
       "<table class=\"dataframe\">\n",
       "<caption>A tibble: 6 × 142</caption>\n",
       "<thead>\n",
       "\t<tr><th scope=col>autoctr</th><th scope=col>SpecCode</th><th scope=col>StockCode</th><th scope=col>EcologyRefNo</th><th scope=col>HabitatsRef</th><th scope=col>Neritic</th><th scope=col>SupraLittoralZone</th><th scope=col>Saltmarshes</th><th scope=col>LittoralZone</th><th scope=col>TidePools</th><th scope=col>⋯</th><th scope=col>RemarksCircadian</th><th scope=col>CircadianRef</th><th scope=col>CircadianAlsoRef</th><th scope=col>Entered</th><th scope=col>Dateentered</th><th scope=col>Modified</th><th scope=col>Datemodified</th><th scope=col>Expert</th><th scope=col>Datechecked</th><th scope=col>TS</th></tr>\n",
       "\t<tr><th scope=col>&lt;int&gt;</th><th scope=col>&lt;int&gt;</th><th scope=col>&lt;int&gt;</th><th scope=col>&lt;int&gt;</th><th scope=col>&lt;int&gt;</th><th scope=col>&lt;int&gt;</th><th scope=col>&lt;int&gt;</th><th scope=col>&lt;int&gt;</th><th scope=col>&lt;int&gt;</th><th scope=col>&lt;int&gt;</th><th scope=col>⋯</th><th scope=col>&lt;chr&gt;</th><th scope=col>&lt;int&gt;</th><th scope=col>&lt;int&gt;</th><th scope=col>&lt;int&gt;</th><th scope=col>&lt;dttm&gt;</th><th scope=col>&lt;int&gt;</th><th scope=col>&lt;dttm&gt;</th><th scope=col>&lt;int&gt;</th><th scope=col>&lt;dttm&gt;</th><th scope=col>&lt;dttm&gt;</th></tr>\n",
       "</thead>\n",
       "<tbody>\n",
       "\t<tr><td>77</td><td>2</td><td> 1</td><td>   3</td><td>  87</td><td> 0</td><td>0</td><td>0</td><td>0</td><td>0</td><td>⋯</td><td>NA</td><td>NA</td><td>NA</td><td> 4</td><td>1990-10-19</td><td> 309</td><td>2011-03-24</td><td> NA</td><td>NA</td><td>NA</td></tr>\n",
       "\t<tr><td>78</td><td>3</td><td> 3</td><td>   3</td><td>   3</td><td> 0</td><td>0</td><td>0</td><td>0</td><td>0</td><td>⋯</td><td>NA</td><td>NA</td><td>NA</td><td> 4</td><td>1990-10-19</td><td>  97</td><td>2015-09-22</td><td>711</td><td>2001-05-10</td><td>NA</td></tr>\n",
       "\t<tr><td>79</td><td>4</td><td> 4</td><td> 189</td><td> 189</td><td>-1</td><td>0</td><td>0</td><td>0</td><td>0</td><td>⋯</td><td>NA</td><td>NA</td><td>NA</td><td> 1</td><td>1990-10-19</td><td> 309</td><td>2004-09-28</td><td> NA</td><td>NA</td><td>NA</td></tr>\n",
       "\t<tr><td>80</td><td>5</td><td> 5</td><td>  25</td><td>  25</td><td>-1</td><td>0</td><td>0</td><td>0</td><td>0</td><td>⋯</td><td>NA</td><td>NA</td><td>NA</td><td> 2</td><td>1990-11-27</td><td> 309</td><td>2004-09-28</td><td> NA</td><td>NA</td><td>NA</td></tr>\n",
       "\t<tr><td>81</td><td>7</td><td> 9</td><td>  26</td><td>  26</td><td> 0</td><td>0</td><td>0</td><td>0</td><td>0</td><td>⋯</td><td>NA</td><td>NA</td><td>NA</td><td> 3</td><td>1990-10-19</td><td> 303</td><td>2018-11-25</td><td> NA</td><td>NA</td><td>NA</td></tr>\n",
       "\t<tr><td>82</td><td>9</td><td>15</td><td>9770</td><td>9770</td><td>-1</td><td>0</td><td>0</td><td>0</td><td>0</td><td>⋯</td><td>NA</td><td>NA</td><td>NA</td><td>34</td><td>2000-04-01</td><td>1472</td><td>2023-01-31</td><td> NA</td><td>NA</td><td>NA</td></tr>\n",
       "</tbody>\n",
       "</table>\n"
      ],
      "text/latex": [
       "A tibble: 6 × 142\n",
       "\\begin{tabular}{lllllllllllllllllllll}\n",
       " autoctr & SpecCode & StockCode & EcologyRefNo & HabitatsRef & Neritic & SupraLittoralZone & Saltmarshes & LittoralZone & TidePools & ⋯ & RemarksCircadian & CircadianRef & CircadianAlsoRef & Entered & Dateentered & Modified & Datemodified & Expert & Datechecked & TS\\\\\n",
       " <int> & <int> & <int> & <int> & <int> & <int> & <int> & <int> & <int> & <int> & ⋯ & <chr> & <int> & <int> & <int> & <dttm> & <int> & <dttm> & <int> & <dttm> & <dttm>\\\\\n",
       "\\hline\n",
       "\t 77 & 2 &  1 &    3 &   87 &  0 & 0 & 0 & 0 & 0 & ⋯ & NA & NA & NA &  4 & 1990-10-19 &  309 & 2011-03-24 &  NA & NA & NA\\\\\n",
       "\t 78 & 3 &  3 &    3 &    3 &  0 & 0 & 0 & 0 & 0 & ⋯ & NA & NA & NA &  4 & 1990-10-19 &   97 & 2015-09-22 & 711 & 2001-05-10 & NA\\\\\n",
       "\t 79 & 4 &  4 &  189 &  189 & -1 & 0 & 0 & 0 & 0 & ⋯ & NA & NA & NA &  1 & 1990-10-19 &  309 & 2004-09-28 &  NA & NA & NA\\\\\n",
       "\t 80 & 5 &  5 &   25 &   25 & -1 & 0 & 0 & 0 & 0 & ⋯ & NA & NA & NA &  2 & 1990-11-27 &  309 & 2004-09-28 &  NA & NA & NA\\\\\n",
       "\t 81 & 7 &  9 &   26 &   26 &  0 & 0 & 0 & 0 & 0 & ⋯ & NA & NA & NA &  3 & 1990-10-19 &  303 & 2018-11-25 &  NA & NA & NA\\\\\n",
       "\t 82 & 9 & 15 & 9770 & 9770 & -1 & 0 & 0 & 0 & 0 & ⋯ & NA & NA & NA & 34 & 2000-04-01 & 1472 & 2023-01-31 &  NA & NA & NA\\\\\n",
       "\\end{tabular}\n"
      ],
      "text/markdown": [
       "\n",
       "A tibble: 6 × 142\n",
       "\n",
       "| autoctr &lt;int&gt; | SpecCode &lt;int&gt; | StockCode &lt;int&gt; | EcologyRefNo &lt;int&gt; | HabitatsRef &lt;int&gt; | Neritic &lt;int&gt; | SupraLittoralZone &lt;int&gt; | Saltmarshes &lt;int&gt; | LittoralZone &lt;int&gt; | TidePools &lt;int&gt; | ⋯ ⋯ | RemarksCircadian &lt;chr&gt; | CircadianRef &lt;int&gt; | CircadianAlsoRef &lt;int&gt; | Entered &lt;int&gt; | Dateentered &lt;dttm&gt; | Modified &lt;int&gt; | Datemodified &lt;dttm&gt; | Expert &lt;int&gt; | Datechecked &lt;dttm&gt; | TS &lt;dttm&gt; |\n",
       "|---|---|---|---|---|---|---|---|---|---|---|---|---|---|---|---|---|---|---|---|---|\n",
       "| 77 | 2 |  1 |    3 |   87 |  0 | 0 | 0 | 0 | 0 | ⋯ | NA | NA | NA |  4 | 1990-10-19 |  309 | 2011-03-24 |  NA | NA | NA |\n",
       "| 78 | 3 |  3 |    3 |    3 |  0 | 0 | 0 | 0 | 0 | ⋯ | NA | NA | NA |  4 | 1990-10-19 |   97 | 2015-09-22 | 711 | 2001-05-10 | NA |\n",
       "| 79 | 4 |  4 |  189 |  189 | -1 | 0 | 0 | 0 | 0 | ⋯ | NA | NA | NA |  1 | 1990-10-19 |  309 | 2004-09-28 |  NA | NA | NA |\n",
       "| 80 | 5 |  5 |   25 |   25 | -1 | 0 | 0 | 0 | 0 | ⋯ | NA | NA | NA |  2 | 1990-11-27 |  309 | 2004-09-28 |  NA | NA | NA |\n",
       "| 81 | 7 |  9 |   26 |   26 |  0 | 0 | 0 | 0 | 0 | ⋯ | NA | NA | NA |  3 | 1990-10-19 |  303 | 2018-11-25 |  NA | NA | NA |\n",
       "| 82 | 9 | 15 | 9770 | 9770 | -1 | 0 | 0 | 0 | 0 | ⋯ | NA | NA | NA | 34 | 2000-04-01 | 1472 | 2023-01-31 |  NA | NA | NA |\n",
       "\n"
      ],
      "text/plain": [
       "  autoctr SpecCode StockCode EcologyRefNo HabitatsRef Neritic SupraLittoralZone\n",
       "1 77      2         1           3           87         0      0                \n",
       "2 78      3         3           3            3         0      0                \n",
       "3 79      4         4         189          189        -1      0                \n",
       "4 80      5         5          25           25        -1      0                \n",
       "5 81      7         9          26           26         0      0                \n",
       "6 82      9        15        9770         9770        -1      0                \n",
       "  Saltmarshes LittoralZone TidePools ⋯ RemarksCircadian CircadianRef\n",
       "1 0           0            0         ⋯ NA               NA          \n",
       "2 0           0            0         ⋯ NA               NA          \n",
       "3 0           0            0         ⋯ NA               NA          \n",
       "4 0           0            0         ⋯ NA               NA          \n",
       "5 0           0            0         ⋯ NA               NA          \n",
       "6 0           0            0         ⋯ NA               NA          \n",
       "  CircadianAlsoRef Entered Dateentered Modified Datemodified Expert Datechecked\n",
       "1 NA                4      1990-10-19   309     2011-03-24    NA    <NA>       \n",
       "2 NA                4      1990-10-19    97     2015-09-22   711    2001-05-10 \n",
       "3 NA                1      1990-10-19   309     2004-09-28    NA    <NA>       \n",
       "4 NA                2      1990-11-27   309     2004-09-28    NA    <NA>       \n",
       "5 NA                3      1990-10-19   303     2018-11-25    NA    <NA>       \n",
       "6 NA               34      2000-04-01  1472     2023-01-31    NA    <NA>       \n",
       "  TS  \n",
       "1 <NA>\n",
       "2 <NA>\n",
       "3 <NA>\n",
       "4 <NA>\n",
       "5 <NA>\n",
       "6 <NA>"
      ]
     },
     "metadata": {},
     "output_type": "display_data"
    }
   ],
   "source": [
    "head(ecology_data)"
   ]
  },
  {
   "cell_type": "code",
   "execution_count": 17,
   "id": "454e15b9-5c22-4529-a496-3840930113a1",
   "metadata": {},
   "outputs": [],
   "source": [
    "write.csv(ecology_data, \"../data/ecology_data.csv\", row.names = FALSE)"
   ]
  },
  {
   "cell_type": "code",
   "execution_count": 9,
   "id": "95a16b9a-982d-4eb1-958b-ffe7f3818d00",
   "metadata": {},
   "outputs": [
    {
     "data": {
      "text/html": [
       "<table class=\"dataframe\">\n",
       "<caption>A tibble: 6 × 123</caption>\n",
       "<thead>\n",
       "\t<tr><th scope=col>StockCode</th><th scope=col>SpecCode</th><th scope=col>SynOC</th><th scope=col>StockDefs</th><th scope=col>StockDefsGeneral</th><th scope=col>Level</th><th scope=col>LocalUnique</th><th scope=col>IUCN_Code</th><th scope=col>IUCN_Assessment</th><th scope=col>IUCN_DateAssessed</th><th scope=col>⋯</th><th scope=col>EggNursery</th><th scope=col>FryNursery</th><th scope=col>LarvalNursery</th><th scope=col>Entered</th><th scope=col>DateEntered</th><th scope=col>Modified</th><th scope=col>DateModified</th><th scope=col>Expert</th><th scope=col>DateChecked</th><th scope=col>TS</th></tr>\n",
       "\t<tr><th scope=col>&lt;int&gt;</th><th scope=col>&lt;int&gt;</th><th scope=col>&lt;int&gt;</th><th scope=col>&lt;chr&gt;</th><th scope=col>&lt;chr&gt;</th><th scope=col>&lt;chr&gt;</th><th scope=col>&lt;chr&gt;</th><th scope=col>&lt;chr&gt;</th><th scope=col>&lt;chr&gt;</th><th scope=col>&lt;date&gt;</th><th scope=col>⋯</th><th scope=col>&lt;int&gt;</th><th scope=col>&lt;int&gt;</th><th scope=col>&lt;int&gt;</th><th scope=col>&lt;int&gt;</th><th scope=col>&lt;dttm&gt;</th><th scope=col>&lt;int&gt;</th><th scope=col>&lt;dttm&gt;</th><th scope=col>&lt;int&gt;</th><th scope=col>&lt;dttm&gt;</th><th scope=col>&lt;dttm&gt;</th></tr>\n",
       "</thead>\n",
       "<tbody>\n",
       "\t<tr><td>21</td><td>15</td><td>12835</td><td><span style=white-space:pre-wrap>Western Atlantic:  North Carolina, USA to Paraíba, Brazil (Ref. 57756).  The most common species of &lt;i&gt;Epinephelus&lt;/i&gt; in the West Indies.                                                                                                                                                                                                                                                                                         </span></td><td>Western Atlantic</td><td>species in general</td><td><span style=white-space:pre-wrap>Western Atlantic:  N                              </span></td><td><span style=white-space:pre-wrap>LC  </span></td><td><span style=white-space:pre-wrap>NA   </span></td><td>2016-11-22</td><td>⋯</td><td>0</td><td>0</td><td>0</td><td>8</td><td>1990-10-18</td><td><span style=white-space:pre-wrap>  21</span></td><td>2023-12-12</td><td>NA</td><td>NA</td><td>NA</td></tr>\n",
       "\t<tr><td>24</td><td>16</td><td>12966</td><td><span style=white-space:pre-wrap>Western Atlantic:  Florida, USA  to southern Brazil, including the Gulf of Mexico and the Caribbean.  Eastern Atlantic:  Senegal to Congo (reported as &lt;i&gt;Epinephelus esonue&lt;/i&gt;, Ref. 2739, 6809); rare in Canary Islands (Ref. 6808).  Eastern Pacific (Gulf of California to Peru) species refers to &lt;i&gt;Epinephelus quinquefasciatus&lt;/i&gt;.  Discrete populations of &lt;i&gt;E. itajara&lt;/i&gt; exist in the western Atlantic (Ref. 89627).</span></td><td><span style=white-space:pre-wrap>NA              </span></td><td>species in general</td><td><span style=white-space:pre-wrap>Western Atlantic:  Florida, USA  to southern Brazi</span></td><td><span style=white-space:pre-wrap>VU  </span></td><td>A2bcd</td><td>2016-11-20</td><td>⋯</td><td>0</td><td>0</td><td>0</td><td>8</td><td>1990-10-18</td><td>2448</td><td>2023-12-12</td><td>14</td><td>2012-03-08</td><td>NA</td></tr>\n",
       "\t<tr><td>25</td><td>17</td><td>12424</td><td>Western Atlantic:  North Carolina, USA to southern Brazil, including the Gulf of Mexico, Caribbean, and Bermuda; strays occur north to Massachusetts.                                                                                                                                                                                                                                                                              </td><td>Western Atlantic</td><td>species in general</td><td>Western Atlantic:  North Carolina, USA to southern</td><td>VU  </td><td>A2bd </td><td>2016-11-20</td><td>⋯</td><td>0</td><td>0</td><td>0</td><td>8</td><td>1990-10-18</td><td> 303</td><td>2023-09-12</td><td>NA</td><td>NA</td><td>NA</td></tr>\n",
       "\t<tr><td>26</td><td>18</td><td> 9517</td><td>Western Atlantic:  Bermuda, Florida, Bahamas, Yucatan Peninsula and throughout the Caribbean to southern Brazil.  Not known from the Gulf of Mexico except at the Campeche Bank off the coast of Yucatan, at Tortugas and off Key West.                                                                                                                                                                                            </td><td>Western Atlantic</td><td>species in general</td><td>Western Atlantic: Be                              </td><td>CR  </td><td>A4bd </td><td>2016-11-18</td><td>⋯</td><td>0</td><td>0</td><td>0</td><td>8</td><td>1990-10-18</td><td>2448</td><td>2023-09-29</td><td>NA</td><td>NA</td><td>NA</td></tr>\n",
       "\t<tr><td>27</td><td>19</td><td>29302</td><td>Western and Eastern Atlantic.                                                                                                                                                                                                                                                                                                                                                                                                      </td><td>Atlantic Ocean  </td><td>species in general</td><td>Western and Eastern Atlantic.                     </td><td>NT  </td><td>NA   </td><td>2011-06-06</td><td>⋯</td><td>0</td><td>0</td><td>0</td><td>8</td><td>1990-10-18</td><td>   2</td><td>2023-10-18</td><td>NA</td><td>NA</td><td>NA</td></tr>\n",
       "\t<tr><td>30</td><td>20</td><td>29289</td><td>Eastern Atlantic:  northern Norway to Western Sahara including southern Iceland, Faroe Islands, Shetlands and Mediterranean.                                                                                                                                                                                                                                                                                                       </td><td>Eastern Atlantic</td><td>species in general</td><td>Eastern Atlantic:  northern Norway to Western Saha</td><td>N.E.</td><td>NA   </td><td>NA</td><td>⋯</td><td>0</td><td>0</td><td>0</td><td>2</td><td>1990-10-18</td><td>2762</td><td>2021-07-28</td><td>NA</td><td>NA</td><td>NA</td></tr>\n",
       "</tbody>\n",
       "</table>\n"
      ],
      "text/latex": [
       "A tibble: 6 × 123\n",
       "\\begin{tabular}{lllllllllllllllllllll}\n",
       " StockCode & SpecCode & SynOC & StockDefs & StockDefsGeneral & Level & LocalUnique & IUCN\\_Code & IUCN\\_Assessment & IUCN\\_DateAssessed & ⋯ & EggNursery & FryNursery & LarvalNursery & Entered & DateEntered & Modified & DateModified & Expert & DateChecked & TS\\\\\n",
       " <int> & <int> & <int> & <chr> & <chr> & <chr> & <chr> & <chr> & <chr> & <date> & ⋯ & <int> & <int> & <int> & <int> & <dttm> & <int> & <dttm> & <int> & <dttm> & <dttm>\\\\\n",
       "\\hline\n",
       "\t 21 & 15 & 12835 & Western Atlantic:  North Carolina, USA to Paraíba, Brazil (Ref. 57756).  The most common species of <i>Epinephelus</i> in the West Indies.                                                                                                                                                                                                                                                                                          & Western Atlantic & species in general & Western Atlantic:  N                               & LC   & NA    & 2016-11-22 & ⋯ & 0 & 0 & 0 & 8 & 1990-10-18 &   21 & 2023-12-12 & NA & NA & NA\\\\\n",
       "\t 24 & 16 & 12966 & Western Atlantic:  Florida, USA  to southern Brazil, including the Gulf of Mexico and the Caribbean.  Eastern Atlantic:  Senegal to Congo (reported as <i>Epinephelus esonue</i>, Ref. 2739, 6809); rare in Canary Islands (Ref. 6808).  Eastern Pacific (Gulf of California to Peru) species refers to <i>Epinephelus quinquefasciatus</i>.  Discrete populations of <i>E. itajara</i> exist in the western Atlantic (Ref. 89627). & NA               & species in general & Western Atlantic:  Florida, USA  to southern Brazi & VU   & A2bcd & 2016-11-20 & ⋯ & 0 & 0 & 0 & 8 & 1990-10-18 & 2448 & 2023-12-12 & 14 & 2012-03-08 & NA\\\\\n",
       "\t 25 & 17 & 12424 & Western Atlantic:  North Carolina, USA to southern Brazil, including the Gulf of Mexico, Caribbean, and Bermuda; strays occur north to Massachusetts.                                                                                                                                                                                                                                                                               & Western Atlantic & species in general & Western Atlantic:  North Carolina, USA to southern & VU   & A2bd  & 2016-11-20 & ⋯ & 0 & 0 & 0 & 8 & 1990-10-18 &  303 & 2023-09-12 & NA & NA & NA\\\\\n",
       "\t 26 & 18 &  9517 & Western Atlantic:  Bermuda, Florida, Bahamas, Yucatan Peninsula and throughout the Caribbean to southern Brazil.  Not known from the Gulf of Mexico except at the Campeche Bank off the coast of Yucatan, at Tortugas and off Key West.                                                                                                                                                                                             & Western Atlantic & species in general & Western Atlantic: Be                               & CR   & A4bd  & 2016-11-18 & ⋯ & 0 & 0 & 0 & 8 & 1990-10-18 & 2448 & 2023-09-29 & NA & NA & NA\\\\\n",
       "\t 27 & 19 & 29302 & Western and Eastern Atlantic.                                                                                                                                                                                                                                                                                                                                                                                                       & Atlantic Ocean   & species in general & Western and Eastern Atlantic.                      & NT   & NA    & 2011-06-06 & ⋯ & 0 & 0 & 0 & 8 & 1990-10-18 &    2 & 2023-10-18 & NA & NA & NA\\\\\n",
       "\t 30 & 20 & 29289 & Eastern Atlantic:  northern Norway to Western Sahara including southern Iceland, Faroe Islands, Shetlands and Mediterranean.                                                                                                                                                                                                                                                                                                        & Eastern Atlantic & species in general & Eastern Atlantic:  northern Norway to Western Saha & N.E. & NA    & NA & ⋯ & 0 & 0 & 0 & 2 & 1990-10-18 & 2762 & 2021-07-28 & NA & NA & NA\\\\\n",
       "\\end{tabular}\n"
      ],
      "text/markdown": [
       "\n",
       "A tibble: 6 × 123\n",
       "\n",
       "| StockCode &lt;int&gt; | SpecCode &lt;int&gt; | SynOC &lt;int&gt; | StockDefs &lt;chr&gt; | StockDefsGeneral &lt;chr&gt; | Level &lt;chr&gt; | LocalUnique &lt;chr&gt; | IUCN_Code &lt;chr&gt; | IUCN_Assessment &lt;chr&gt; | IUCN_DateAssessed &lt;date&gt; | ⋯ ⋯ | EggNursery &lt;int&gt; | FryNursery &lt;int&gt; | LarvalNursery &lt;int&gt; | Entered &lt;int&gt; | DateEntered &lt;dttm&gt; | Modified &lt;int&gt; | DateModified &lt;dttm&gt; | Expert &lt;int&gt; | DateChecked &lt;dttm&gt; | TS &lt;dttm&gt; |\n",
       "|---|---|---|---|---|---|---|---|---|---|---|---|---|---|---|---|---|---|---|---|---|\n",
       "| 21 | 15 | 12835 | Western Atlantic:  North Carolina, USA to Paraíba, Brazil (Ref. 57756).  The most common species of &lt;i&gt;Epinephelus&lt;/i&gt; in the West Indies.                                                                                                                                                                                                                                                                                          | Western Atlantic | species in general | Western Atlantic:  N                               | LC   | NA    | 2016-11-22 | ⋯ | 0 | 0 | 0 | 8 | 1990-10-18 |   21 | 2023-12-12 | NA | NA | NA |\n",
       "| 24 | 16 | 12966 | Western Atlantic:  Florida, USA  to southern Brazil, including the Gulf of Mexico and the Caribbean.  Eastern Atlantic:  Senegal to Congo (reported as &lt;i&gt;Epinephelus esonue&lt;/i&gt;, Ref. 2739, 6809); rare in Canary Islands (Ref. 6808).  Eastern Pacific (Gulf of California to Peru) species refers to &lt;i&gt;Epinephelus quinquefasciatus&lt;/i&gt;.  Discrete populations of &lt;i&gt;E. itajara&lt;/i&gt; exist in the western Atlantic (Ref. 89627). | NA               | species in general | Western Atlantic:  Florida, USA  to southern Brazi | VU   | A2bcd | 2016-11-20 | ⋯ | 0 | 0 | 0 | 8 | 1990-10-18 | 2448 | 2023-12-12 | 14 | 2012-03-08 | NA |\n",
       "| 25 | 17 | 12424 | Western Atlantic:  North Carolina, USA to southern Brazil, including the Gulf of Mexico, Caribbean, and Bermuda; strays occur north to Massachusetts.                                                                                                                                                                                                                                                                               | Western Atlantic | species in general | Western Atlantic:  North Carolina, USA to southern | VU   | A2bd  | 2016-11-20 | ⋯ | 0 | 0 | 0 | 8 | 1990-10-18 |  303 | 2023-09-12 | NA | NA | NA |\n",
       "| 26 | 18 |  9517 | Western Atlantic:  Bermuda, Florida, Bahamas, Yucatan Peninsula and throughout the Caribbean to southern Brazil.  Not known from the Gulf of Mexico except at the Campeche Bank off the coast of Yucatan, at Tortugas and off Key West.                                                                                                                                                                                             | Western Atlantic | species in general | Western Atlantic: Be                               | CR   | A4bd  | 2016-11-18 | ⋯ | 0 | 0 | 0 | 8 | 1990-10-18 | 2448 | 2023-09-29 | NA | NA | NA |\n",
       "| 27 | 19 | 29302 | Western and Eastern Atlantic.                                                                                                                                                                                                                                                                                                                                                                                                       | Atlantic Ocean   | species in general | Western and Eastern Atlantic.                      | NT   | NA    | 2011-06-06 | ⋯ | 0 | 0 | 0 | 8 | 1990-10-18 |    2 | 2023-10-18 | NA | NA | NA |\n",
       "| 30 | 20 | 29289 | Eastern Atlantic:  northern Norway to Western Sahara including southern Iceland, Faroe Islands, Shetlands and Mediterranean.                                                                                                                                                                                                                                                                                                        | Eastern Atlantic | species in general | Eastern Atlantic:  northern Norway to Western Saha | N.E. | NA    | NA | ⋯ | 0 | 0 | 0 | 2 | 1990-10-18 | 2762 | 2021-07-28 | NA | NA | NA |\n",
       "\n"
      ],
      "text/plain": [
       "  StockCode SpecCode SynOC\n",
       "1 21        15       12835\n",
       "2 24        16       12966\n",
       "3 25        17       12424\n",
       "4 26        18        9517\n",
       "5 27        19       29302\n",
       "6 30        20       29289\n",
       "  StockDefs                                                                                                                                                                                                                                                                                                                                                                                                                          \n",
       "1 Western Atlantic:  North Carolina, USA to Paraíba, Brazil (Ref. 57756).  The most common species of <i>Epinephelus</i> in the West Indies.                                                                                                                                                                                                                                                                                         \n",
       "2 Western Atlantic:  Florida, USA  to southern Brazil, including the Gulf of Mexico and the Caribbean.  Eastern Atlantic:  Senegal to Congo (reported as <i>Epinephelus esonue</i>, Ref. 2739, 6809); rare in Canary Islands (Ref. 6808).  Eastern Pacific (Gulf of California to Peru) species refers to <i>Epinephelus quinquefasciatus</i>.  Discrete populations of <i>E. itajara</i> exist in the western Atlantic (Ref. 89627).\n",
       "3 Western Atlantic:  North Carolina, USA to southern Brazil, including the Gulf of Mexico, Caribbean, and Bermuda; strays occur north to Massachusetts.                                                                                                                                                                                                                                                                              \n",
       "4 Western Atlantic:  Bermuda, Florida, Bahamas, Yucatan Peninsula and throughout the Caribbean to southern Brazil.  Not known from the Gulf of Mexico except at the Campeche Bank off the coast of Yucatan, at Tortugas and off Key West.                                                                                                                                                                                            \n",
       "5 Western and Eastern Atlantic.                                                                                                                                                                                                                                                                                                                                                                                                      \n",
       "6 Eastern Atlantic:  northern Norway to Western Sahara including southern Iceland, Faroe Islands, Shetlands and Mediterranean.                                                                                                                                                                                                                                                                                                       \n",
       "  StockDefsGeneral Level             \n",
       "1 Western Atlantic species in general\n",
       "2 NA               species in general\n",
       "3 Western Atlantic species in general\n",
       "4 Western Atlantic species in general\n",
       "5 Atlantic Ocean   species in general\n",
       "6 Eastern Atlantic species in general\n",
       "  LocalUnique                                        IUCN_Code IUCN_Assessment\n",
       "1 Western Atlantic:  N                               LC        NA             \n",
       "2 Western Atlantic:  Florida, USA  to southern Brazi VU        A2bcd          \n",
       "3 Western Atlantic:  North Carolina, USA to southern VU        A2bd           \n",
       "4 Western Atlantic: Be                               CR        A4bd           \n",
       "5 Western and Eastern Atlantic.                      NT        NA             \n",
       "6 Eastern Atlantic:  northern Norway to Western Saha N.E.      NA             \n",
       "  IUCN_DateAssessed ⋯ EggNursery FryNursery LarvalNursery Entered DateEntered\n",
       "1 2016-11-22        ⋯ 0          0          0             8       1990-10-18 \n",
       "2 2016-11-20        ⋯ 0          0          0             8       1990-10-18 \n",
       "3 2016-11-20        ⋯ 0          0          0             8       1990-10-18 \n",
       "4 2016-11-18        ⋯ 0          0          0             8       1990-10-18 \n",
       "5 2011-06-06        ⋯ 0          0          0             8       1990-10-18 \n",
       "6 <NA>              ⋯ 0          0          0             2       1990-10-18 \n",
       "  Modified DateModified Expert DateChecked TS  \n",
       "1   21     2023-12-12   NA     <NA>        <NA>\n",
       "2 2448     2023-12-12   14     2012-03-08  <NA>\n",
       "3  303     2023-09-12   NA     <NA>        <NA>\n",
       "4 2448     2023-09-29   NA     <NA>        <NA>\n",
       "5    2     2023-10-18   NA     <NA>        <NA>\n",
       "6 2762     2021-07-28   NA     <NA>        <NA>"
      ]
     },
     "metadata": {},
     "output_type": "display_data"
    }
   ],
   "source": [
    "head(stocks_data)"
   ]
  },
  {
   "cell_type": "code",
   "execution_count": 18,
   "id": "d1e428e7-0652-45b6-ae8b-da3403caee4a",
   "metadata": {},
   "outputs": [],
   "source": [
    "write.csv(stocks_data, \"../data/stocks_data.csv\", row.names = FALSE)"
   ]
  },
  {
   "cell_type": "code",
   "execution_count": 10,
   "id": "e27dde00-1b68-4443-b41b-efe7311a4584",
   "metadata": {},
   "outputs": [
    {
     "data": {
      "text/html": [
       "<table class=\"dataframe\">\n",
       "<caption>A tibble: 6 × 8</caption>\n",
       "<thead>\n",
       "\t<tr><th scope=col>SpecCode</th><th scope=col>Species</th><th scope=col>Genus</th><th scope=col>Subfamily</th><th scope=col>Family</th><th scope=col>Order</th><th scope=col>Class</th><th scope=col>SuperClass</th></tr>\n",
       "\t<tr><th scope=col>&lt;int&gt;</th><th scope=col>&lt;chr&gt;</th><th scope=col>&lt;chr&gt;</th><th scope=col>&lt;chr&gt;</th><th scope=col>&lt;chr&gt;</th><th scope=col>&lt;chr&gt;</th><th scope=col>&lt;chr&gt;</th><th scope=col>&lt;chr&gt;</th></tr>\n",
       "</thead>\n",
       "<tbody>\n",
       "\t<tr><td>64588</td><td>Aapticheilichthys websteri</td><td>Aapticheilichthys</td><td>Procatopodinae     </td><td>Procatopodidae</td><td>Cyprinodontiformes</td><td>Teleostei</td><td>Osteichthyes</td></tr>\n",
       "\t<tr><td>16239</td><td>Aaptosyax grypus          </td><td>Aaptosyax        </td><td>Cyprininae         </td><td>Cyprinidae    </td><td>Cypriniformes     </td><td>Teleostei</td><td>Osteichthyes</td></tr>\n",
       "\t<tr><td> 2347</td><td>Abactochromis labrosus    </td><td>Abactochromis    </td><td>Pseudocrenilabrinae</td><td>Cichlidae     </td><td>Cichliformes      </td><td>Teleostei</td><td>Osteichthyes</td></tr>\n",
       "\t<tr><td>50683</td><td>Acanthicus adonis         </td><td>Acanthicus       </td><td>Hypostominae       </td><td>Loricariidae  </td><td>Siluriformes      </td><td>Teleostei</td><td>Osteichthyes</td></tr>\n",
       "\t<tr><td>13268</td><td>Acanthicus hystrix        </td><td>Acanthicus       </td><td>Hypostominae       </td><td>Loricariidae  </td><td>Siluriformes      </td><td>Teleostei</td><td>Osteichthyes</td></tr>\n",
       "\t<tr><td>10354</td><td>Acanthocepola abbreviata  </td><td>Acanthocepola    </td><td>Cepolinae          </td><td>Cepolidae     </td><td>Eupercaria/misc   </td><td>Teleostei</td><td>Osteichthyes</td></tr>\n",
       "</tbody>\n",
       "</table>\n"
      ],
      "text/latex": [
       "A tibble: 6 × 8\n",
       "\\begin{tabular}{llllllll}\n",
       " SpecCode & Species & Genus & Subfamily & Family & Order & Class & SuperClass\\\\\n",
       " <int> & <chr> & <chr> & <chr> & <chr> & <chr> & <chr> & <chr>\\\\\n",
       "\\hline\n",
       "\t 64588 & Aapticheilichthys websteri & Aapticheilichthys & Procatopodinae      & Procatopodidae & Cyprinodontiformes & Teleostei & Osteichthyes\\\\\n",
       "\t 16239 & Aaptosyax grypus           & Aaptosyax         & Cyprininae          & Cyprinidae     & Cypriniformes      & Teleostei & Osteichthyes\\\\\n",
       "\t  2347 & Abactochromis labrosus     & Abactochromis     & Pseudocrenilabrinae & Cichlidae      & Cichliformes       & Teleostei & Osteichthyes\\\\\n",
       "\t 50683 & Acanthicus adonis          & Acanthicus        & Hypostominae        & Loricariidae   & Siluriformes       & Teleostei & Osteichthyes\\\\\n",
       "\t 13268 & Acanthicus hystrix         & Acanthicus        & Hypostominae        & Loricariidae   & Siluriformes       & Teleostei & Osteichthyes\\\\\n",
       "\t 10354 & Acanthocepola abbreviata   & Acanthocepola     & Cepolinae           & Cepolidae      & Eupercaria/misc    & Teleostei & Osteichthyes\\\\\n",
       "\\end{tabular}\n"
      ],
      "text/markdown": [
       "\n",
       "A tibble: 6 × 8\n",
       "\n",
       "| SpecCode &lt;int&gt; | Species &lt;chr&gt; | Genus &lt;chr&gt; | Subfamily &lt;chr&gt; | Family &lt;chr&gt; | Order &lt;chr&gt; | Class &lt;chr&gt; | SuperClass &lt;chr&gt; |\n",
       "|---|---|---|---|---|---|---|---|\n",
       "| 64588 | Aapticheilichthys websteri | Aapticheilichthys | Procatopodinae      | Procatopodidae | Cyprinodontiformes | Teleostei | Osteichthyes |\n",
       "| 16239 | Aaptosyax grypus           | Aaptosyax         | Cyprininae          | Cyprinidae     | Cypriniformes      | Teleostei | Osteichthyes |\n",
       "|  2347 | Abactochromis labrosus     | Abactochromis     | Pseudocrenilabrinae | Cichlidae      | Cichliformes       | Teleostei | Osteichthyes |\n",
       "| 50683 | Acanthicus adonis          | Acanthicus        | Hypostominae        | Loricariidae   | Siluriformes       | Teleostei | Osteichthyes |\n",
       "| 13268 | Acanthicus hystrix         | Acanthicus        | Hypostominae        | Loricariidae   | Siluriformes       | Teleostei | Osteichthyes |\n",
       "| 10354 | Acanthocepola abbreviata   | Acanthocepola     | Cepolinae           | Cepolidae      | Eupercaria/misc    | Teleostei | Osteichthyes |\n",
       "\n"
      ],
      "text/plain": [
       "  SpecCode Species                    Genus             Subfamily          \n",
       "1 64588    Aapticheilichthys websteri Aapticheilichthys Procatopodinae     \n",
       "2 16239    Aaptosyax grypus           Aaptosyax         Cyprininae         \n",
       "3  2347    Abactochromis labrosus     Abactochromis     Pseudocrenilabrinae\n",
       "4 50683    Acanthicus adonis          Acanthicus        Hypostominae       \n",
       "5 13268    Acanthicus hystrix         Acanthicus        Hypostominae       \n",
       "6 10354    Acanthocepola abbreviata   Acanthocepola     Cepolinae          \n",
       "  Family         Order              Class     SuperClass  \n",
       "1 Procatopodidae Cyprinodontiformes Teleostei Osteichthyes\n",
       "2 Cyprinidae     Cypriniformes      Teleostei Osteichthyes\n",
       "3 Cichlidae      Cichliformes       Teleostei Osteichthyes\n",
       "4 Loricariidae   Siluriformes       Teleostei Osteichthyes\n",
       "5 Loricariidae   Siluriformes       Teleostei Osteichthyes\n",
       "6 Cepolidae      Eupercaria/misc    Teleostei Osteichthyes"
      ]
     },
     "metadata": {},
     "output_type": "display_data"
    }
   ],
   "source": [
    "head(species_names_data)"
   ]
  },
  {
   "cell_type": "code",
   "execution_count": 19,
   "id": "98195675-ba4a-445c-a5f1-74fb5977525b",
   "metadata": {},
   "outputs": [],
   "source": [
    "write.csv(species_names_data, \"../data/species_names_data.csv\", row.names = FALSE)"
   ]
  },
  {
   "cell_type": "markdown",
   "id": "f864f4a4-15a1-47f1-a9de-571f1fa57182",
   "metadata": {},
   "source": [
    "### Combine"
   ]
  },
  {
   "cell_type": "code",
   "execution_count": 10,
   "id": "44635dbc-2585-4fea-bbc3-a9ba5a15a321",
   "metadata": {},
   "outputs": [],
   "source": [
    "# make list of df\n",
    "df_list <- list(species_data, speed_data, ecology_data, stocks_data, species_names_data)"
   ]
  },
  {
   "cell_type": "code",
   "execution_count": 11,
   "id": "253cd286-bbd5-454f-8d56-456977df4cdd",
   "metadata": {},
   "outputs": [
    {
     "data": {
      "text/html": [
       "'SpecCode'"
      ],
      "text/latex": [
       "'SpecCode'"
      ],
      "text/markdown": [
       "'SpecCode'"
      ],
      "text/plain": [
       "[1] \"SpecCode\""
      ]
     },
     "metadata": {},
     "output_type": "display_data"
    }
   ],
   "source": [
    "# find the common column\n",
    "Reduce(intersect, lapply(df_list, names))"
   ]
  },
  {
   "cell_type": "code",
   "execution_count": 13,
   "id": "a953ee5c-cfa5-4fef-b8b2-439f764b08e8",
   "metadata": {},
   "outputs": [
    {
     "name": "stderr",
     "output_type": "stream",
     "text": [
      "Warning message in left_join(., ecology_data, by = \"SpecCode\"):\n",
      "“\u001b[1m\u001b[22mDetected an unexpected many-to-many relationship between `x` and `y`.\n",
      "\u001b[36mℹ\u001b[39m Row 415 of `x` matches multiple rows in `y`.\n",
      "\u001b[36mℹ\u001b[39m Row 81 of `y` matches multiple rows in `x`.\n",
      "\u001b[36mℹ\u001b[39m If a many-to-many relationship is expected, set `relationship =\n",
      "  \"many-to-many\"` to silence this warning.”\n",
      "Warning message in left_join(., stocks_data, by = \"SpecCode\"):\n",
      "“\u001b[1m\u001b[22mDetected an unexpected many-to-many relationship between `x` and `y`.\n",
      "\u001b[36mℹ\u001b[39m Row 415 of `x` matches multiple rows in `y`.\n",
      "\u001b[36mℹ\u001b[39m Row 234 of `y` matches multiple rows in `x`.\n",
      "\u001b[36mℹ\u001b[39m If a many-to-many relationship is expected, set `relationship =\n",
      "  \"many-to-many\"` to silence this warning.”\n"
     ]
    },
    {
     "ename": "ERROR",
     "evalue": "Error: object 'species_name_data' not found\n",
     "output_type": "error",
     "traceback": [
      "Error: object 'species_name_data' not found\nTraceback:\n",
      "1. species_data %>% left_join(speed_data, by = \"SpecCode\") %>% left_join(ecology_data, \n .     by = \"SpecCode\") %>% left_join(stocks_data, by = \"SpecCode\") %>% \n .     left_join(species_name_data, by = \"SpecCode\")",
      "2. left_join(., species_name_data, by = \"SpecCode\")",
      "3. left_join.data.frame(., species_name_data, by = \"SpecCode\")",
      "4. auto_copy(x, y, copy = copy)",
      "5. same_src(x, y)",
      "6. same_src.data.frame(x, y)",
      "7. is.data.frame(y)"
     ]
    }
   ],
   "source": [
    "# combine on SpecCode column\n",
    "combined_df <- species_data %>%\n",
    "    left_join(speed_data, by = \"SpecCode\") %>%\n",
    "    left_join(ecology_data, by = \"SpecCode\") %>%\n",
    "    left_join(stocks_data, by = \"SpecCode\") %>%\n",
    "    left_join(species_name_data, by = \"SpecCode\")"
   ]
  },
  {
   "cell_type": "code",
   "execution_count": null,
   "id": "993e7f0e-77f1-402e-9bd0-7919623808c6",
   "metadata": {},
   "outputs": [],
   "source": []
  }
 ],
 "metadata": {
  "kernelspec": {
   "display_name": "R",
   "language": "R",
   "name": "ir"
  },
  "language_info": {
   "codemirror_mode": "r",
   "file_extension": ".r",
   "mimetype": "text/x-r-source",
   "name": "R",
   "pygments_lexer": "r",
   "version": "4.4.2"
  }
 },
 "nbformat": 4,
 "nbformat_minor": 5
}
