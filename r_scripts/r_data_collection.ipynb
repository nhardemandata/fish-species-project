{
 "cells": [
  {
   "cell_type": "code",
   "execution_count": 5,
   "id": "541f25da-b713-4332-8f5c-2b88178054b5",
   "metadata": {},
   "outputs": [
    {
     "name": "stdout",
     "output_type": "stream",
     "text": [
      "\n",
      "The downloaded binary packages are in\n",
      "\t/var/folders/17/1s12c7d93tz_93j94s44qsl40000gn/T//RtmpYm3AAz/downloaded_packages\n"
     ]
    }
   ],
   "source": [
    "# libraries\n",
    "install.packages(\"rfishbase\")\n",
    "library(rfishbase)"
   ]
  },
  {
   "cell_type": "code",
   "execution_count": 12,
   "id": "be3268f5-e764-49a0-bd41-565993bcda69",
   "metadata": {},
   "outputs": [
    {
     "name": "stdout",
     "output_type": "stream",
     "text": [
      "%>%\n",
      "available_releases\n",
      "brains\n",
      "c_code\n",
      "common_names\n",
      "common_to_sci\n",
      "country\n",
      "countrysub\n",
      "countrysubref\n",
      "diet\n",
      "diet_items\n",
      "ecology\n",
      "ecosystem\n",
      "estimate\n",
      "faoareas\n",
      "fb_tables\n",
      "fb_tbl\n",
      "fecundity\n",
      "fooditems\n",
      "genetics\n",
      "introductions\n",
      "larvae\n",
      "length_freq\n",
      "length_length\n",
      "length_weight\n",
      "load_taxa\n",
      "maturity\n",
      "morphology\n",
      "morphometrics\n",
      "oxygen\n",
      "popchar\n",
      "popgrowth\n",
      "poplf\n",
      "popll\n",
      "poplw\n",
      "popqb\n",
      "predators\n",
      "ration\n",
      "references\n",
      "reproduction\n",
      "sci_to_common\n",
      "spawning\n",
      "species\n",
      "species_by_ecosystem\n",
      "species_names\n",
      "speed\n",
      "stocks\n",
      "swimming\n",
      "synonyms\n",
      "validate_names\n"
     ]
    }
   ],
   "source": [
    "# view exportable\n",
    "cat(ls(\"package:rfishbase\"), sep = \"\\n\")"
   ]
  },
  {
   "cell_type": "code",
   "execution_count": 17,
   "id": "e796630b-01e3-465c-b7bf-e3cee59863c3",
   "metadata": {},
   "outputs": [],
   "source": [
    "# collect\n",
    "species_data <- species(limit = 2500)\n",
    "speed_data <- speed(limit = 2500)\n",
    "ecology_data <- ecology(limit = 2500)"
   ]
  },
  {
   "cell_type": "code",
   "execution_count": 14,
   "id": "9bb7fe7b-1de5-4ad2-8634-568362e35bf0",
   "metadata": {},
   "outputs": [
    {
     "data": {
      "text/html": [
       "<table class=\"dataframe\">\n",
       "<caption>A tibble: 6 × 101</caption>\n",
       "<thead>\n",
       "\t<tr><th scope=col>SpecCode</th><th scope=col>Genus</th><th scope=col>SpeciesRefNo</th><th scope=col>Author</th><th scope=col>FBname</th><th scope=col>PicPreferredName</th><th scope=col>PicPreferredNameM</th><th scope=col>PicPreferredNameF</th><th scope=col>PicPreferredNameJ</th><th scope=col>FamCode</th><th scope=col>⋯</th><th scope=col>Profile</th><th scope=col>PD50</th><th scope=col>Emblematic</th><th scope=col>Entered</th><th scope=col>DateEntered</th><th scope=col>Modified</th><th scope=col>DateModified</th><th scope=col>Expert</th><th scope=col>DateChecked</th><th scope=col>TS</th></tr>\n",
       "\t<tr><th scope=col>&lt;int&gt;</th><th scope=col>&lt;chr&gt;</th><th scope=col>&lt;int&gt;</th><th scope=col>&lt;chr&gt;</th><th scope=col>&lt;chr&gt;</th><th scope=col>&lt;chr&gt;</th><th scope=col>&lt;chr&gt;</th><th scope=col>&lt;chr&gt;</th><th scope=col>&lt;chr&gt;</th><th scope=col>&lt;int&gt;</th><th scope=col>⋯</th><th scope=col>&lt;chr&gt;</th><th scope=col>&lt;dbl&gt;</th><th scope=col>&lt;int&gt;</th><th scope=col>&lt;int&gt;</th><th scope=col>&lt;dttm&gt;</th><th scope=col>&lt;int&gt;</th><th scope=col>&lt;dttm&gt;</th><th scope=col>&lt;int&gt;</th><th scope=col>&lt;dttm&gt;</th><th scope=col>&lt;dttm&gt;</th></tr>\n",
       "</thead>\n",
       "<tbody>\n",
       "\t<tr><td>64588</td><td>Aapticheilichthys</td><td>78622</td><td>(Huber, 2007)           </td><td>NA                </td><td>Prweb_u0.jpg</td><td>NA</td><td>NA</td><td>NA          </td><td>733</td><td>⋯</td><td>NA</td><td>1.0000</td><td>0</td><td>303</td><td>2008-08-04</td><td>  2</td><td>2024-03-21 00:00:00</td><td> NA</td><td>NA</td><td>NA</td></tr>\n",
       "\t<tr><td>16239</td><td>Aaptosyax        </td><td>10431</td><td>Rainboth, 1991          </td><td>Giant salmon carp </td><td>Aagry_u0.gif</td><td>NA</td><td>NA</td><td>NA          </td><td>122</td><td>⋯</td><td>NA</td><td>1.0000</td><td>0</td><td>113</td><td>1996-01-12</td><td>  2</td><td>2024-05-22 00:00:00</td><td> NA</td><td>NA</td><td>NA</td></tr>\n",
       "\t<tr><td> 2347</td><td>Abactochromis    </td><td>85491</td><td>(Trewavas, 1935)        </td><td>NA                </td><td>Melab_u0.jpg</td><td>NA</td><td>NA</td><td>NA          </td><td>349</td><td>⋯</td><td>NA</td><td>1.0000</td><td>0</td><td>  3</td><td>1991-03-01</td><td>675</td><td>2011-12-06 17:06:31</td><td> 14</td><td>2010-11-09</td><td>NA</td></tr>\n",
       "\t<tr><td>62612</td><td><span style=white-space:pre-wrap>Abalistes        </span></td><td>54835</td><td>Matsuura &amp; Yoshino, 2004</td><td><span style=white-space:pre-wrap>NA                </span></td><td>Abfil_u0.jpg</td><td>NA</td><td>NA</td><td><span style=white-space:pre-wrap>NA          </span></td><td>445</td><td>⋯</td><td>NA</td><td>0.6250</td><td>0</td><td> 14</td><td>2006-04-19</td><td> NA</td><td>2010-09-08 00:00:00</td><td> NA</td><td>NA</td><td>NA</td></tr>\n",
       "\t<tr><td>    9</td><td>Abalistes        </td><td> 9770</td><td>(Anonymous, 1798)       </td><td>Starry triggerfish</td><td>Abste_u4.jpg</td><td>NA</td><td>NA</td><td>Abste_u2.jpg</td><td>445</td><td>⋯</td><td>NA</td><td>0.6250</td><td>0</td><td>  2</td><td>1990-10-17</td><td>  2</td><td>2024-01-17 00:00:00</td><td>124</td><td>1996-03-14</td><td>NA</td></tr>\n",
       "\t<tr><td>11144</td><td>Abantennarius    </td><td> 6773</td><td>Schultz, 1957           </td><td>Tailjet frogfish  </td><td>Anana_u2.jpg</td><td>NA</td><td>NA</td><td>NA          </td><td>192</td><td>⋯</td><td>NA</td><td>0.5002</td><td>0</td><td>  1</td><td>1994-06-20</td><td> 14</td><td>2022-04-22 00:00:00</td><td>  2</td><td>1994-09-28</td><td>NA</td></tr>\n",
       "</tbody>\n",
       "</table>\n"
      ],
      "text/latex": [
       "A tibble: 6 × 101\n",
       "\\begin{tabular}{lllllllllllllllllllll}\n",
       " SpecCode & Genus & SpeciesRefNo & Author & FBname & PicPreferredName & PicPreferredNameM & PicPreferredNameF & PicPreferredNameJ & FamCode & ⋯ & Profile & PD50 & Emblematic & Entered & DateEntered & Modified & DateModified & Expert & DateChecked & TS\\\\\n",
       " <int> & <chr> & <int> & <chr> & <chr> & <chr> & <chr> & <chr> & <chr> & <int> & ⋯ & <chr> & <dbl> & <int> & <int> & <dttm> & <int> & <dttm> & <int> & <dttm> & <dttm>\\\\\n",
       "\\hline\n",
       "\t 64588 & Aapticheilichthys & 78622 & (Huber, 2007)            & NA                 & Prweb\\_u0.jpg & NA & NA & NA           & 733 & ⋯ & NA & 1.0000 & 0 & 303 & 2008-08-04 &   2 & 2024-03-21 00:00:00 &  NA & NA & NA\\\\\n",
       "\t 16239 & Aaptosyax         & 10431 & Rainboth, 1991           & Giant salmon carp  & Aagry\\_u0.gif & NA & NA & NA           & 122 & ⋯ & NA & 1.0000 & 0 & 113 & 1996-01-12 &   2 & 2024-05-22 00:00:00 &  NA & NA & NA\\\\\n",
       "\t  2347 & Abactochromis     & 85491 & (Trewavas, 1935)         & NA                 & Melab\\_u0.jpg & NA & NA & NA           & 349 & ⋯ & NA & 1.0000 & 0 &   3 & 1991-03-01 & 675 & 2011-12-06 17:06:31 &  14 & 2010-11-09 & NA\\\\\n",
       "\t 62612 & Abalistes         & 54835 & Matsuura \\& Yoshino, 2004 & NA                 & Abfil\\_u0.jpg & NA & NA & NA           & 445 & ⋯ & NA & 0.6250 & 0 &  14 & 2006-04-19 &  NA & 2010-09-08 00:00:00 &  NA & NA & NA\\\\\n",
       "\t     9 & Abalistes         &  9770 & (Anonymous, 1798)        & Starry triggerfish & Abste\\_u4.jpg & NA & NA & Abste\\_u2.jpg & 445 & ⋯ & NA & 0.6250 & 0 &   2 & 1990-10-17 &   2 & 2024-01-17 00:00:00 & 124 & 1996-03-14 & NA\\\\\n",
       "\t 11144 & Abantennarius     &  6773 & Schultz, 1957            & Tailjet frogfish   & Anana\\_u2.jpg & NA & NA & NA           & 192 & ⋯ & NA & 0.5002 & 0 &   1 & 1994-06-20 &  14 & 2022-04-22 00:00:00 &   2 & 1994-09-28 & NA\\\\\n",
       "\\end{tabular}\n"
      ],
      "text/markdown": [
       "\n",
       "A tibble: 6 × 101\n",
       "\n",
       "| SpecCode &lt;int&gt; | Genus &lt;chr&gt; | SpeciesRefNo &lt;int&gt; | Author &lt;chr&gt; | FBname &lt;chr&gt; | PicPreferredName &lt;chr&gt; | PicPreferredNameM &lt;chr&gt; | PicPreferredNameF &lt;chr&gt; | PicPreferredNameJ &lt;chr&gt; | FamCode &lt;int&gt; | ⋯ ⋯ | Profile &lt;chr&gt; | PD50 &lt;dbl&gt; | Emblematic &lt;int&gt; | Entered &lt;int&gt; | DateEntered &lt;dttm&gt; | Modified &lt;int&gt; | DateModified &lt;dttm&gt; | Expert &lt;int&gt; | DateChecked &lt;dttm&gt; | TS &lt;dttm&gt; |\n",
       "|---|---|---|---|---|---|---|---|---|---|---|---|---|---|---|---|---|---|---|---|---|\n",
       "| 64588 | Aapticheilichthys | 78622 | (Huber, 2007)            | NA                 | Prweb_u0.jpg | NA | NA | NA           | 733 | ⋯ | NA | 1.0000 | 0 | 303 | 2008-08-04 |   2 | 2024-03-21 00:00:00 |  NA | NA | NA |\n",
       "| 16239 | Aaptosyax         | 10431 | Rainboth, 1991           | Giant salmon carp  | Aagry_u0.gif | NA | NA | NA           | 122 | ⋯ | NA | 1.0000 | 0 | 113 | 1996-01-12 |   2 | 2024-05-22 00:00:00 |  NA | NA | NA |\n",
       "|  2347 | Abactochromis     | 85491 | (Trewavas, 1935)         | NA                 | Melab_u0.jpg | NA | NA | NA           | 349 | ⋯ | NA | 1.0000 | 0 |   3 | 1991-03-01 | 675 | 2011-12-06 17:06:31 |  14 | 2010-11-09 | NA |\n",
       "| 62612 | Abalistes         | 54835 | Matsuura &amp; Yoshino, 2004 | NA                 | Abfil_u0.jpg | NA | NA | NA           | 445 | ⋯ | NA | 0.6250 | 0 |  14 | 2006-04-19 |  NA | 2010-09-08 00:00:00 |  NA | NA | NA |\n",
       "|     9 | Abalistes         |  9770 | (Anonymous, 1798)        | Starry triggerfish | Abste_u4.jpg | NA | NA | Abste_u2.jpg | 445 | ⋯ | NA | 0.6250 | 0 |   2 | 1990-10-17 |   2 | 2024-01-17 00:00:00 | 124 | 1996-03-14 | NA |\n",
       "| 11144 | Abantennarius     |  6773 | Schultz, 1957            | Tailjet frogfish   | Anana_u2.jpg | NA | NA | NA           | 192 | ⋯ | NA | 0.5002 | 0 |   1 | 1994-06-20 |  14 | 2022-04-22 00:00:00 |   2 | 1994-09-28 | NA |\n",
       "\n"
      ],
      "text/plain": [
       "  SpecCode Genus             SpeciesRefNo Author                  \n",
       "1 64588    Aapticheilichthys 78622        (Huber, 2007)           \n",
       "2 16239    Aaptosyax         10431        Rainboth, 1991          \n",
       "3  2347    Abactochromis     85491        (Trewavas, 1935)        \n",
       "4 62612    Abalistes         54835        Matsuura & Yoshino, 2004\n",
       "5     9    Abalistes          9770        (Anonymous, 1798)       \n",
       "6 11144    Abantennarius      6773        Schultz, 1957           \n",
       "  FBname             PicPreferredName PicPreferredNameM PicPreferredNameF\n",
       "1 NA                 Prweb_u0.jpg     NA                NA               \n",
       "2 Giant salmon carp  Aagry_u0.gif     NA                NA               \n",
       "3 NA                 Melab_u0.jpg     NA                NA               \n",
       "4 NA                 Abfil_u0.jpg     NA                NA               \n",
       "5 Starry triggerfish Abste_u4.jpg     NA                NA               \n",
       "6 Tailjet frogfish   Anana_u2.jpg     NA                NA               \n",
       "  PicPreferredNameJ FamCode ⋯ Profile PD50   Emblematic Entered DateEntered\n",
       "1 NA                733     ⋯ NA      1.0000 0          303     2008-08-04 \n",
       "2 NA                122     ⋯ NA      1.0000 0          113     1996-01-12 \n",
       "3 NA                349     ⋯ NA      1.0000 0            3     1991-03-01 \n",
       "4 NA                445     ⋯ NA      0.6250 0           14     2006-04-19 \n",
       "5 Abste_u2.jpg      445     ⋯ NA      0.6250 0            2     1990-10-17 \n",
       "6 NA                192     ⋯ NA      0.5002 0            1     1994-06-20 \n",
       "  Modified DateModified        Expert DateChecked TS  \n",
       "1   2      2024-03-21 00:00:00  NA    <NA>        <NA>\n",
       "2   2      2024-05-22 00:00:00  NA    <NA>        <NA>\n",
       "3 675      2011-12-06 17:06:31  14    2010-11-09  <NA>\n",
       "4  NA      2010-09-08 00:00:00  NA    <NA>        <NA>\n",
       "5   2      2024-01-17 00:00:00 124    1996-03-14  <NA>\n",
       "6  14      2022-04-22 00:00:00   2    1994-09-28  <NA>"
      ]
     },
     "metadata": {},
     "output_type": "display_data"
    }
   ],
   "source": [
    "head(species_data)"
   ]
  },
  {
   "cell_type": "code",
   "execution_count": null,
   "id": "e2318d76-b46a-466a-8be2-62a1438acc2f",
   "metadata": {},
   "outputs": [],
   "source": []
  }
 ],
 "metadata": {
  "kernelspec": {
   "display_name": "R",
   "language": "R",
   "name": "ir"
  },
  "language_info": {
   "codemirror_mode": "r",
   "file_extension": ".r",
   "mimetype": "text/x-r-source",
   "name": "R",
   "pygments_lexer": "r",
   "version": "4.4.2"
  }
 },
 "nbformat": 4,
 "nbformat_minor": 5
}
